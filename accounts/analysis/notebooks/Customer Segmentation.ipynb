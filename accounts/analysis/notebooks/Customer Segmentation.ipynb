{
 "cells": [
  {
   "cell_type": "markdown",
   "metadata": {
    "_cell_guid": "e42ebc38-a4c5-4b46-9428-580472762c68",
    "_uuid": "8b30c0db606799ef38190315c0246c5d4d3ce992"
   },
   "source": [
    " ## Customer Segments"
   ]
  },
  {
   "cell_type": "code",
   "execution_count": 2,
   "metadata": {
    "_cell_guid": "6817395f-75f0-48e3-b68a-89ba0c98d8b0",
    "_execution_state": "idle",
    "_uuid": "75c7b0e6d3755164b0ded68f3a8b06678a377c17"
   },
   "outputs": [
    {
     "name": "stdout",
     "output_type": "stream",
     "text": [
      "Apriori.csv\n",
      "aisles.csv\n",
      "departments.csv\n",
      "order_products__prior.csv\n",
      "order_products__train-1.csv\n",
      "order_products__train.csv\n",
      "orders.csv\n",
      "products.csv\n",
      "\n"
     ]
    }
   ],
   "source": [
    "\n",
    "import numpy as np \n",
    "import pandas as pd\n",
    "from sklearn.decomposition import PCA\n",
    "\n",
    "from subprocess import check_output\n",
    "print(check_output([\"ls\", \"../../predictions/analysis/inputs\"]).decode(\"utf8\"))"
   ]
  },
  {
   "cell_type": "code",
   "execution_count": 3,
   "metadata": {
    "_cell_guid": "0b56a723-0435-48d4-b035-f08cdfe901f7",
    "_execution_state": "idle",
    "_uuid": "fee02fa30daf545226727f2dd9273a8c2e61330a"
   },
   "outputs": [
    {
     "data": {
      "text/html": [
       "<div>\n",
       "<style scoped>\n",
       "    .dataframe tbody tr th:only-of-type {\n",
       "        vertical-align: middle;\n",
       "    }\n",
       "\n",
       "    .dataframe tbody tr th {\n",
       "        vertical-align: top;\n",
       "    }\n",
       "\n",
       "    .dataframe thead th {\n",
       "        text-align: right;\n",
       "    }\n",
       "</style>\n",
       "<table border=\"1\" class=\"dataframe\">\n",
       "  <thead>\n",
       "    <tr style=\"text-align: right;\">\n",
       "      <th></th>\n",
       "      <th>order_id</th>\n",
       "      <th>user_id</th>\n",
       "      <th>eval_set</th>\n",
       "      <th>order_number</th>\n",
       "      <th>order_dow</th>\n",
       "      <th>order_hour_of_day</th>\n",
       "      <th>days_since_prior_order</th>\n",
       "    </tr>\n",
       "  </thead>\n",
       "  <tbody>\n",
       "    <tr>\n",
       "      <th>0</th>\n",
       "      <td>2539329</td>\n",
       "      <td>1</td>\n",
       "      <td>prior</td>\n",
       "      <td>1</td>\n",
       "      <td>2</td>\n",
       "      <td>8</td>\n",
       "      <td>NaN</td>\n",
       "    </tr>\n",
       "    <tr>\n",
       "      <th>1</th>\n",
       "      <td>2398795</td>\n",
       "      <td>1</td>\n",
       "      <td>prior</td>\n",
       "      <td>2</td>\n",
       "      <td>3</td>\n",
       "      <td>7</td>\n",
       "      <td>15.0</td>\n",
       "    </tr>\n",
       "    <tr>\n",
       "      <th>2</th>\n",
       "      <td>473747</td>\n",
       "      <td>1</td>\n",
       "      <td>prior</td>\n",
       "      <td>3</td>\n",
       "      <td>3</td>\n",
       "      <td>12</td>\n",
       "      <td>21.0</td>\n",
       "    </tr>\n",
       "    <tr>\n",
       "      <th>3</th>\n",
       "      <td>2254736</td>\n",
       "      <td>1</td>\n",
       "      <td>prior</td>\n",
       "      <td>4</td>\n",
       "      <td>4</td>\n",
       "      <td>7</td>\n",
       "      <td>29.0</td>\n",
       "    </tr>\n",
       "    <tr>\n",
       "      <th>4</th>\n",
       "      <td>431534</td>\n",
       "      <td>1</td>\n",
       "      <td>prior</td>\n",
       "      <td>5</td>\n",
       "      <td>4</td>\n",
       "      <td>15</td>\n",
       "      <td>28.0</td>\n",
       "    </tr>\n",
       "  </tbody>\n",
       "</table>\n",
       "</div>"
      ],
      "text/plain": [
       "   order_id  user_id eval_set  order_number  order_dow  order_hour_of_day  \\\n",
       "0   2539329        1    prior             1          2                  8   \n",
       "1   2398795        1    prior             2          3                  7   \n",
       "2    473747        1    prior             3          3                 12   \n",
       "3   2254736        1    prior             4          4                  7   \n",
       "4    431534        1    prior             5          4                 15   \n",
       "\n",
       "   days_since_prior_order  \n",
       "0                     NaN  \n",
       "1                    15.0  \n",
       "2                    21.0  \n",
       "3                    29.0  \n",
       "4                    28.0  "
      ]
     },
     "execution_count": 3,
     "metadata": {},
     "output_type": "execute_result"
    }
   ],
   "source": [
    "orders = pd.read_csv('../../predictions/analysis/inputs/orders.csv')\n",
    "orders.head()"
   ]
  },
  {
   "cell_type": "code",
   "execution_count": 4,
   "metadata": {
    "_cell_guid": "ddda87c6-3ecc-48c6-bc3e-0acf35fea649",
    "_execution_state": "idle",
    "_uuid": "3dfe4793cde134eff77fb8e1fb5a0c21c10e3481"
   },
   "outputs": [
    {
     "data": {
      "text/html": [
       "<div>\n",
       "<style scoped>\n",
       "    .dataframe tbody tr th:only-of-type {\n",
       "        vertical-align: middle;\n",
       "    }\n",
       "\n",
       "    .dataframe tbody tr th {\n",
       "        vertical-align: top;\n",
       "    }\n",
       "\n",
       "    .dataframe thead th {\n",
       "        text-align: right;\n",
       "    }\n",
       "</style>\n",
       "<table border=\"1\" class=\"dataframe\">\n",
       "  <thead>\n",
       "    <tr style=\"text-align: right;\">\n",
       "      <th></th>\n",
       "      <th>order_id</th>\n",
       "      <th>product_id</th>\n",
       "      <th>add_to_cart_order</th>\n",
       "      <th>reordered</th>\n",
       "    </tr>\n",
       "  </thead>\n",
       "  <tbody>\n",
       "    <tr>\n",
       "      <th>0</th>\n",
       "      <td>2</td>\n",
       "      <td>33120</td>\n",
       "      <td>1</td>\n",
       "      <td>1</td>\n",
       "    </tr>\n",
       "    <tr>\n",
       "      <th>1</th>\n",
       "      <td>2</td>\n",
       "      <td>28985</td>\n",
       "      <td>2</td>\n",
       "      <td>1</td>\n",
       "    </tr>\n",
       "    <tr>\n",
       "      <th>2</th>\n",
       "      <td>2</td>\n",
       "      <td>9327</td>\n",
       "      <td>3</td>\n",
       "      <td>0</td>\n",
       "    </tr>\n",
       "    <tr>\n",
       "      <th>3</th>\n",
       "      <td>2</td>\n",
       "      <td>45918</td>\n",
       "      <td>4</td>\n",
       "      <td>1</td>\n",
       "    </tr>\n",
       "    <tr>\n",
       "      <th>4</th>\n",
       "      <td>2</td>\n",
       "      <td>30035</td>\n",
       "      <td>5</td>\n",
       "      <td>0</td>\n",
       "    </tr>\n",
       "  </tbody>\n",
       "</table>\n",
       "</div>"
      ],
      "text/plain": [
       "   order_id  product_id  add_to_cart_order  reordered\n",
       "0         2       33120                  1          1\n",
       "1         2       28985                  2          1\n",
       "2         2        9327                  3          0\n",
       "3         2       45918                  4          1\n",
       "4         2       30035                  5          0"
      ]
     },
     "execution_count": 4,
     "metadata": {},
     "output_type": "execute_result"
    }
   ],
   "source": [
    "prior = pd.read_csv('../../predictions/analysis/inputs/order_products__prior.csv')\n",
    "prior.head()"
   ]
  },
  {
   "cell_type": "code",
   "execution_count": 5,
   "metadata": {
    "_cell_guid": "2151da7e-40ea-41dd-adca-1c69a22ad3d3",
    "_execution_state": "idle",
    "_uuid": "45b1faa4e5520d31421edcf70380e5a36db3826b"
   },
   "outputs": [
    {
     "data": {
      "text/html": [
       "<div>\n",
       "<style scoped>\n",
       "    .dataframe tbody tr th:only-of-type {\n",
       "        vertical-align: middle;\n",
       "    }\n",
       "\n",
       "    .dataframe tbody tr th {\n",
       "        vertical-align: top;\n",
       "    }\n",
       "\n",
       "    .dataframe thead th {\n",
       "        text-align: right;\n",
       "    }\n",
       "</style>\n",
       "<table border=\"1\" class=\"dataframe\">\n",
       "  <thead>\n",
       "    <tr style=\"text-align: right;\">\n",
       "      <th></th>\n",
       "      <th>order_id</th>\n",
       "      <th>product_id</th>\n",
       "      <th>add_to_cart_order</th>\n",
       "      <th>reordered</th>\n",
       "    </tr>\n",
       "  </thead>\n",
       "  <tbody>\n",
       "    <tr>\n",
       "      <th>0</th>\n",
       "      <td>1</td>\n",
       "      <td>49302</td>\n",
       "      <td>1</td>\n",
       "      <td>1</td>\n",
       "    </tr>\n",
       "    <tr>\n",
       "      <th>1</th>\n",
       "      <td>1</td>\n",
       "      <td>11109</td>\n",
       "      <td>2</td>\n",
       "      <td>1</td>\n",
       "    </tr>\n",
       "    <tr>\n",
       "      <th>2</th>\n",
       "      <td>1</td>\n",
       "      <td>10246</td>\n",
       "      <td>3</td>\n",
       "      <td>0</td>\n",
       "    </tr>\n",
       "    <tr>\n",
       "      <th>3</th>\n",
       "      <td>1</td>\n",
       "      <td>49683</td>\n",
       "      <td>4</td>\n",
       "      <td>0</td>\n",
       "    </tr>\n",
       "    <tr>\n",
       "      <th>4</th>\n",
       "      <td>1</td>\n",
       "      <td>43633</td>\n",
       "      <td>5</td>\n",
       "      <td>1</td>\n",
       "    </tr>\n",
       "  </tbody>\n",
       "</table>\n",
       "</div>"
      ],
      "text/plain": [
       "   order_id  product_id  add_to_cart_order  reordered\n",
       "0         1       49302                  1          1\n",
       "1         1       11109                  2          1\n",
       "2         1       10246                  3          0\n",
       "3         1       49683                  4          0\n",
       "4         1       43633                  5          1"
      ]
     },
     "execution_count": 5,
     "metadata": {},
     "output_type": "execute_result"
    }
   ],
   "source": [
    "train = pd.read_csv('../../predictions/analysis/inputs/order_products__train.csv')\n",
    "train.head()"
   ]
  },
  {
   "cell_type": "code",
   "execution_count": 6,
   "metadata": {
    "_uuid": "a1a98f7b2b02db1277b92f05b5372038d4336826"
   },
   "outputs": [
    {
     "name": "stdout",
     "output_type": "stream",
     "text": [
      "131209\n"
     ]
    },
    {
     "data": {
      "text/html": [
       "<div>\n",
       "<style scoped>\n",
       "    .dataframe tbody tr th:only-of-type {\n",
       "        vertical-align: middle;\n",
       "    }\n",
       "\n",
       "    .dataframe tbody tr th {\n",
       "        vertical-align: top;\n",
       "    }\n",
       "\n",
       "    .dataframe thead th {\n",
       "        text-align: right;\n",
       "    }\n",
       "</style>\n",
       "<table border=\"1\" class=\"dataframe\">\n",
       "  <thead>\n",
       "    <tr style=\"text-align: right;\">\n",
       "      <th></th>\n",
       "      <th>order_id</th>\n",
       "      <th>user_id</th>\n",
       "      <th>eval_set</th>\n",
       "      <th>order_number</th>\n",
       "      <th>order_dow</th>\n",
       "      <th>order_hour_of_day</th>\n",
       "      <th>days_since_prior_order</th>\n",
       "    </tr>\n",
       "  </thead>\n",
       "  <tbody>\n",
       "    <tr>\n",
       "      <th>4564</th>\n",
       "      <td>2006537</td>\n",
       "      <td>284</td>\n",
       "      <td>prior</td>\n",
       "      <td>1</td>\n",
       "      <td>1</td>\n",
       "      <td>12</td>\n",
       "      <td>NaN</td>\n",
       "    </tr>\n",
       "    <tr>\n",
       "      <th>4565</th>\n",
       "      <td>983957</td>\n",
       "      <td>284</td>\n",
       "      <td>prior</td>\n",
       "      <td>2</td>\n",
       "      <td>6</td>\n",
       "      <td>11</td>\n",
       "      <td>12.0</td>\n",
       "    </tr>\n",
       "    <tr>\n",
       "      <th>4566</th>\n",
       "      <td>2314173</td>\n",
       "      <td>284</td>\n",
       "      <td>prior</td>\n",
       "      <td>3</td>\n",
       "      <td>6</td>\n",
       "      <td>11</td>\n",
       "      <td>14.0</td>\n",
       "    </tr>\n",
       "    <tr>\n",
       "      <th>4567</th>\n",
       "      <td>106356</td>\n",
       "      <td>284</td>\n",
       "      <td>prior</td>\n",
       "      <td>4</td>\n",
       "      <td>2</td>\n",
       "      <td>9</td>\n",
       "      <td>10.0</td>\n",
       "    </tr>\n",
       "    <tr>\n",
       "      <th>4568</th>\n",
       "      <td>1801937</td>\n",
       "      <td>284</td>\n",
       "      <td>prior</td>\n",
       "      <td>5</td>\n",
       "      <td>2</td>\n",
       "      <td>14</td>\n",
       "      <td>14.0</td>\n",
       "    </tr>\n",
       "  </tbody>\n",
       "</table>\n",
       "</div>"
      ],
      "text/plain": [
       "      order_id  user_id eval_set  order_number  order_dow  order_hour_of_day  \\\n",
       "4564   2006537      284    prior             1          1                 12   \n",
       "4565    983957      284    prior             2          6                 11   \n",
       "4566   2314173      284    prior             3          6                 11   \n",
       "4567    106356      284    prior             4          2                  9   \n",
       "4568   1801937      284    prior             5          2                 14   \n",
       "\n",
       "      days_since_prior_order  \n",
       "4564                     NaN  \n",
       "4565                    12.0  \n",
       "4566                    14.0  \n",
       "4567                    10.0  \n",
       "4568                    14.0  "
      ]
     },
     "execution_count": 6,
     "metadata": {},
     "output_type": "execute_result"
    }
   ],
   "source": [
    "#Creating orders list for 2500 users\n",
    "ordersTrain=orders[orders['eval_set']=='train']\n",
    "print(len(ordersTrain))\n",
    "train_usr = pd.DataFrame(ordersTrain['user_id'].unique(), columns =['user_id'])\n",
    "train_usr_sample =  train_usr.sample(2500, random_state=42).sort_values('user_id').reset_index(drop = True)\n",
    "orders = orders[orders['user_id'].isin(train_usr_sample['user_id'])]\n",
    "orders.head(5)"
   ]
  },
  {
   "cell_type": "code",
   "execution_count": 7,
   "metadata": {
    "_cell_guid": "a82843b6-2dd2-455c-b165-b286d8661b95",
    "_execution_state": "idle",
    "_uuid": "7e282306416e570ff6ce8b0c201de136ad7546bc"
   },
   "outputs": [
    {
     "data": {
      "text/html": [
       "<div>\n",
       "<style scoped>\n",
       "    .dataframe tbody tr th:only-of-type {\n",
       "        vertical-align: middle;\n",
       "    }\n",
       "\n",
       "    .dataframe tbody tr th {\n",
       "        vertical-align: top;\n",
       "    }\n",
       "\n",
       "    .dataframe thead th {\n",
       "        text-align: right;\n",
       "    }\n",
       "</style>\n",
       "<table border=\"1\" class=\"dataframe\">\n",
       "  <thead>\n",
       "    <tr style=\"text-align: right;\">\n",
       "      <th></th>\n",
       "      <th>order_id</th>\n",
       "      <th>product_id</th>\n",
       "      <th>add_to_cart_order</th>\n",
       "      <th>reordered</th>\n",
       "      <th>user_id</th>\n",
       "      <th>eval_set</th>\n",
       "      <th>order_number</th>\n",
       "      <th>order_dow</th>\n",
       "      <th>order_hour_of_day</th>\n",
       "      <th>days_since_prior_order</th>\n",
       "    </tr>\n",
       "  </thead>\n",
       "  <tbody>\n",
       "    <tr>\n",
       "      <th>12760</th>\n",
       "      <td>106356</td>\n",
       "      <td>37003</td>\n",
       "      <td>1</td>\n",
       "      <td>1</td>\n",
       "      <td>284</td>\n",
       "      <td>prior</td>\n",
       "      <td>4</td>\n",
       "      <td>2</td>\n",
       "      <td>9</td>\n",
       "      <td>10.0</td>\n",
       "    </tr>\n",
       "    <tr>\n",
       "      <th>12761</th>\n",
       "      <td>106356</td>\n",
       "      <td>31504</td>\n",
       "      <td>2</td>\n",
       "      <td>1</td>\n",
       "      <td>284</td>\n",
       "      <td>prior</td>\n",
       "      <td>4</td>\n",
       "      <td>2</td>\n",
       "      <td>9</td>\n",
       "      <td>10.0</td>\n",
       "    </tr>\n",
       "    <tr>\n",
       "      <th>12762</th>\n",
       "      <td>106356</td>\n",
       "      <td>49235</td>\n",
       "      <td>3</td>\n",
       "      <td>1</td>\n",
       "      <td>284</td>\n",
       "      <td>prior</td>\n",
       "      <td>4</td>\n",
       "      <td>2</td>\n",
       "      <td>9</td>\n",
       "      <td>10.0</td>\n",
       "    </tr>\n",
       "    <tr>\n",
       "      <th>12763</th>\n",
       "      <td>106356</td>\n",
       "      <td>49044</td>\n",
       "      <td>4</td>\n",
       "      <td>1</td>\n",
       "      <td>284</td>\n",
       "      <td>prior</td>\n",
       "      <td>4</td>\n",
       "      <td>2</td>\n",
       "      <td>9</td>\n",
       "      <td>10.0</td>\n",
       "    </tr>\n",
       "    <tr>\n",
       "      <th>12764</th>\n",
       "      <td>106356</td>\n",
       "      <td>228</td>\n",
       "      <td>5</td>\n",
       "      <td>1</td>\n",
       "      <td>284</td>\n",
       "      <td>prior</td>\n",
       "      <td>4</td>\n",
       "      <td>2</td>\n",
       "      <td>9</td>\n",
       "      <td>10.0</td>\n",
       "    </tr>\n",
       "  </tbody>\n",
       "</table>\n",
       "</div>"
      ],
      "text/plain": [
       "       order_id  product_id  add_to_cart_order  reordered  user_id eval_set  \\\n",
       "12760    106356       37003                  1          1      284    prior   \n",
       "12761    106356       31504                  2          1      284    prior   \n",
       "12762    106356       49235                  3          1      284    prior   \n",
       "12763    106356       49044                  4          1      284    prior   \n",
       "12764    106356         228                  5          1      284    prior   \n",
       "\n",
       "       order_number  order_dow  order_hour_of_day  days_since_prior_order  \n",
       "12760             4          2                  9                    10.0  \n",
       "12761             4          2                  9                    10.0  \n",
       "12762             4          2                  9                    10.0  \n",
       "12763             4          2                  9                    10.0  \n",
       "12764             4          2                  9                    10.0  "
      ]
     },
     "execution_count": 7,
     "metadata": {},
     "output_type": "execute_result"
    }
   ],
   "source": [
    "order_prior = pd.merge(prior,orders,on=['order_id','order_id'])\n",
    "order_prior = order_prior.sort_values(by=['user_id','order_id'])\n",
    "order_prior.head()"
   ]
  },
  {
   "cell_type": "code",
   "execution_count": 8,
   "metadata": {
    "_uuid": "03d4dd958bd43406f3f4a547c8bed9246bb6e252"
   },
   "outputs": [
    {
     "data": {
      "text/plain": [
       "2500"
      ]
     },
     "execution_count": 8,
     "metadata": {},
     "output_type": "execute_result"
    }
   ],
   "source": [
    "order_prior['user_id'].nunique()"
   ]
  },
  {
   "cell_type": "code",
   "execution_count": 12,
   "metadata": {
    "_cell_guid": "d3a65a40-ca69-4623-ba1f-8fd32c288fd5",
    "_execution_state": "idle",
    "_uuid": "bcbd996c363efb3407e49af24702cc6be87bee83"
   },
   "outputs": [
    {
     "data": {
      "text/html": [
       "<div>\n",
       "<style scoped>\n",
       "    .dataframe tbody tr th:only-of-type {\n",
       "        vertical-align: middle;\n",
       "    }\n",
       "\n",
       "    .dataframe tbody tr th {\n",
       "        vertical-align: top;\n",
       "    }\n",
       "\n",
       "    .dataframe thead th {\n",
       "        text-align: right;\n",
       "    }\n",
       "</style>\n",
       "<table border=\"1\" class=\"dataframe\">\n",
       "  <thead>\n",
       "    <tr style=\"text-align: right;\">\n",
       "      <th></th>\n",
       "      <th>product_id</th>\n",
       "      <th>product_name</th>\n",
       "      <th>aisle_id</th>\n",
       "      <th>department_id</th>\n",
       "    </tr>\n",
       "  </thead>\n",
       "  <tbody>\n",
       "    <tr>\n",
       "      <th>0</th>\n",
       "      <td>1</td>\n",
       "      <td>Chocolate Sandwich Cookies</td>\n",
       "      <td>61</td>\n",
       "      <td>19</td>\n",
       "    </tr>\n",
       "    <tr>\n",
       "      <th>1</th>\n",
       "      <td>2</td>\n",
       "      <td>All-Seasons Salt</td>\n",
       "      <td>104</td>\n",
       "      <td>13</td>\n",
       "    </tr>\n",
       "    <tr>\n",
       "      <th>2</th>\n",
       "      <td>3</td>\n",
       "      <td>Robust Golden Unsweetened Oolong Tea</td>\n",
       "      <td>94</td>\n",
       "      <td>7</td>\n",
       "    </tr>\n",
       "    <tr>\n",
       "      <th>3</th>\n",
       "      <td>4</td>\n",
       "      <td>Smart Ones Classic Favorites Mini Rigatoni Wit...</td>\n",
       "      <td>38</td>\n",
       "      <td>1</td>\n",
       "    </tr>\n",
       "    <tr>\n",
       "      <th>4</th>\n",
       "      <td>5</td>\n",
       "      <td>Green Chile Anytime Sauce</td>\n",
       "      <td>5</td>\n",
       "      <td>13</td>\n",
       "    </tr>\n",
       "  </tbody>\n",
       "</table>\n",
       "</div>"
      ],
      "text/plain": [
       "   product_id                                       product_name  aisle_id  \\\n",
       "0           1                         Chocolate Sandwich Cookies        61   \n",
       "1           2                                   All-Seasons Salt       104   \n",
       "2           3               Robust Golden Unsweetened Oolong Tea        94   \n",
       "3           4  Smart Ones Classic Favorites Mini Rigatoni Wit...        38   \n",
       "4           5                          Green Chile Anytime Sauce         5   \n",
       "\n",
       "   department_id  \n",
       "0             19  \n",
       "1             13  \n",
       "2              7  \n",
       "3              1  \n",
       "4             13  "
      ]
     },
     "execution_count": 12,
     "metadata": {},
     "output_type": "execute_result"
    }
   ],
   "source": [
    "products = pd.read_csv('../../predictions/analysis/inputs/products.csv')\n",
    "products.head()"
   ]
  },
  {
   "cell_type": "code",
   "execution_count": 13,
   "metadata": {
    "_cell_guid": "f6c7f893-2156-415b-8af9-35b36359a26d",
    "_execution_state": "idle",
    "_uuid": "4883c10198663e9f00343902ada05038625e1b80"
   },
   "outputs": [
    {
     "data": {
      "text/html": [
       "<div>\n",
       "<style scoped>\n",
       "    .dataframe tbody tr th:only-of-type {\n",
       "        vertical-align: middle;\n",
       "    }\n",
       "\n",
       "    .dataframe tbody tr th {\n",
       "        vertical-align: top;\n",
       "    }\n",
       "\n",
       "    .dataframe thead th {\n",
       "        text-align: right;\n",
       "    }\n",
       "</style>\n",
       "<table border=\"1\" class=\"dataframe\">\n",
       "  <thead>\n",
       "    <tr style=\"text-align: right;\">\n",
       "      <th></th>\n",
       "      <th>aisle_id</th>\n",
       "      <th>aisle</th>\n",
       "    </tr>\n",
       "  </thead>\n",
       "  <tbody>\n",
       "    <tr>\n",
       "      <th>0</th>\n",
       "      <td>1</td>\n",
       "      <td>prepared soups salads</td>\n",
       "    </tr>\n",
       "    <tr>\n",
       "      <th>1</th>\n",
       "      <td>2</td>\n",
       "      <td>specialty cheeses</td>\n",
       "    </tr>\n",
       "    <tr>\n",
       "      <th>2</th>\n",
       "      <td>3</td>\n",
       "      <td>energy granola bars</td>\n",
       "    </tr>\n",
       "    <tr>\n",
       "      <th>3</th>\n",
       "      <td>4</td>\n",
       "      <td>instant foods</td>\n",
       "    </tr>\n",
       "    <tr>\n",
       "      <th>4</th>\n",
       "      <td>5</td>\n",
       "      <td>marinades meat preparation</td>\n",
       "    </tr>\n",
       "  </tbody>\n",
       "</table>\n",
       "</div>"
      ],
      "text/plain": [
       "   aisle_id                       aisle\n",
       "0         1       prepared soups salads\n",
       "1         2           specialty cheeses\n",
       "2         3         energy granola bars\n",
       "3         4               instant foods\n",
       "4         5  marinades meat preparation"
      ]
     },
     "execution_count": 13,
     "metadata": {},
     "output_type": "execute_result"
    }
   ],
   "source": [
    "aisles = pd.read_csv('../../predictions/analysis/inputs/aisles.csv')\n",
    "aisles.head()"
   ]
  },
  {
   "cell_type": "code",
   "execution_count": 10,
   "metadata": {
    "_cell_guid": "2c885a67-0947-4140-adcd-b8b4bb95bb56",
    "_execution_state": "idle",
    "_uuid": "28b26554945aad4c8422b4592a69057736c16952",
    "scrolled": true
   },
   "outputs": [
    {
     "name": "stdout",
     "output_type": "stream",
     "text": [
      "(134, 2)\n"
     ]
    }
   ],
   "source": [
    "print(aisles.shape)"
   ]
  },
  {
   "cell_type": "code",
   "execution_count": 14,
   "metadata": {
    "_cell_guid": "e82ffc93-df20-434e-8d4f-296468c05f48",
    "_execution_state": "idle",
    "_uuid": "2fad3d338152d014e601a073f10eb53d3464bdee"
   },
   "outputs": [],
   "source": [
    "_pp = pd.merge(prior,products, on = ['product_id','product_id'])\n",
    "_pp = pd.merge(_pp,orders,on=['order_id','order_id'])\n",
    "prior_product = pd.merge(_pp,aisles,on=['aisle_id','aisle_id'])\n",
    "prior_product.head(10)\n",
    "del _pp"
   ]
  },
  {
   "cell_type": "code",
   "execution_count": 15,
   "metadata": {
    "_uuid": "aad09a58c07226497970ca9f0c5562f94d60f7ea",
    "scrolled": true
   },
   "outputs": [
    {
     "data": {
      "text/html": [
       "<div>\n",
       "<style scoped>\n",
       "    .dataframe tbody tr th:only-of-type {\n",
       "        vertical-align: middle;\n",
       "    }\n",
       "\n",
       "    .dataframe tbody tr th {\n",
       "        vertical-align: top;\n",
       "    }\n",
       "\n",
       "    .dataframe thead th {\n",
       "        text-align: right;\n",
       "    }\n",
       "</style>\n",
       "<table border=\"1\" class=\"dataframe\">\n",
       "  <thead>\n",
       "    <tr style=\"text-align: right;\">\n",
       "      <th></th>\n",
       "      <th>order_id</th>\n",
       "      <th>product_id</th>\n",
       "      <th>add_to_cart_order</th>\n",
       "      <th>reordered</th>\n",
       "      <th>product_name</th>\n",
       "      <th>aisle_id</th>\n",
       "      <th>department_id</th>\n",
       "      <th>user_id</th>\n",
       "      <th>eval_set</th>\n",
       "      <th>order_number</th>\n",
       "      <th>order_dow</th>\n",
       "      <th>order_hour_of_day</th>\n",
       "      <th>days_since_prior_order</th>\n",
       "      <th>aisle</th>\n",
       "    </tr>\n",
       "  </thead>\n",
       "  <tbody>\n",
       "    <tr>\n",
       "      <th>0</th>\n",
       "      <td>26249</td>\n",
       "      <td>33120</td>\n",
       "      <td>5</td>\n",
       "      <td>1</td>\n",
       "      <td>Organic Egg Whites</td>\n",
       "      <td>86</td>\n",
       "      <td>16</td>\n",
       "      <td>8167</td>\n",
       "      <td>prior</td>\n",
       "      <td>19</td>\n",
       "      <td>6</td>\n",
       "      <td>11</td>\n",
       "      <td>7.0</td>\n",
       "      <td>eggs</td>\n",
       "    </tr>\n",
       "    <tr>\n",
       "      <th>1</th>\n",
       "      <td>41345</td>\n",
       "      <td>33120</td>\n",
       "      <td>7</td>\n",
       "      <td>1</td>\n",
       "      <td>Organic Egg Whites</td>\n",
       "      <td>86</td>\n",
       "      <td>16</td>\n",
       "      <td>120974</td>\n",
       "      <td>prior</td>\n",
       "      <td>13</td>\n",
       "      <td>0</td>\n",
       "      <td>16</td>\n",
       "      <td>2.0</td>\n",
       "      <td>eggs</td>\n",
       "    </tr>\n",
       "    <tr>\n",
       "      <th>2</th>\n",
       "      <td>41345</td>\n",
       "      <td>1890</td>\n",
       "      <td>2</td>\n",
       "      <td>1</td>\n",
       "      <td>Organic Large Grade A Eggs</td>\n",
       "      <td>86</td>\n",
       "      <td>16</td>\n",
       "      <td>120974</td>\n",
       "      <td>prior</td>\n",
       "      <td>13</td>\n",
       "      <td>0</td>\n",
       "      <td>16</td>\n",
       "      <td>2.0</td>\n",
       "      <td>eggs</td>\n",
       "    </tr>\n",
       "    <tr>\n",
       "      <th>3</th>\n",
       "      <td>45253</td>\n",
       "      <td>33120</td>\n",
       "      <td>4</td>\n",
       "      <td>1</td>\n",
       "      <td>Organic Egg Whites</td>\n",
       "      <td>86</td>\n",
       "      <td>16</td>\n",
       "      <td>8167</td>\n",
       "      <td>prior</td>\n",
       "      <td>29</td>\n",
       "      <td>0</td>\n",
       "      <td>21</td>\n",
       "      <td>8.0</td>\n",
       "      <td>eggs</td>\n",
       "    </tr>\n",
       "    <tr>\n",
       "      <th>4</th>\n",
       "      <td>92051</td>\n",
       "      <td>33120</td>\n",
       "      <td>3</td>\n",
       "      <td>1</td>\n",
       "      <td>Organic Egg Whites</td>\n",
       "      <td>86</td>\n",
       "      <td>16</td>\n",
       "      <td>8167</td>\n",
       "      <td>prior</td>\n",
       "      <td>33</td>\n",
       "      <td>5</td>\n",
       "      <td>9</td>\n",
       "      <td>5.0</td>\n",
       "      <td>eggs</td>\n",
       "    </tr>\n",
       "  </tbody>\n",
       "</table>\n",
       "</div>"
      ],
      "text/plain": [
       "   order_id  product_id  add_to_cart_order  reordered  \\\n",
       "0     26249       33120                  5          1   \n",
       "1     41345       33120                  7          1   \n",
       "2     41345        1890                  2          1   \n",
       "3     45253       33120                  4          1   \n",
       "4     92051       33120                  3          1   \n",
       "\n",
       "                 product_name  aisle_id  department_id  user_id eval_set  \\\n",
       "0          Organic Egg Whites        86             16     8167    prior   \n",
       "1          Organic Egg Whites        86             16   120974    prior   \n",
       "2  Organic Large Grade A Eggs        86             16   120974    prior   \n",
       "3          Organic Egg Whites        86             16     8167    prior   \n",
       "4          Organic Egg Whites        86             16     8167    prior   \n",
       "\n",
       "   order_number  order_dow  order_hour_of_day  days_since_prior_order aisle  \n",
       "0            19          6                 11                     7.0  eggs  \n",
       "1            13          0                 16                     2.0  eggs  \n",
       "2            13          0                 16                     2.0  eggs  \n",
       "3            29          0                 21                     8.0  eggs  \n",
       "4            33          5                  9                     5.0  eggs  "
      ]
     },
     "execution_count": 15,
     "metadata": {},
     "output_type": "execute_result"
    }
   ],
   "source": [
    "prior_product.head()"
   ]
  },
  {
   "cell_type": "code",
   "execution_count": 16,
   "metadata": {
    "_uuid": "3248879fc7b174f4f0089ab99deb47bd500a35fb"
   },
   "outputs": [],
   "source": [
    "aisle_prod = prior_product.groupby(['aisle','product_name'])['order_id'].nunique().sort_values(ascending=False).reset_index(name='count')\n",
    "top_prod_aisle = aisle_prod.sort_values('count', ascending=False).drop_duplicates(['aisle'])[['aisle','product_name']].reset_index(drop = True)"
   ]
  },
  {
   "cell_type": "code",
   "execution_count": 17,
   "metadata": {
    "_uuid": "c8f28329fda0c756431595a31f8b327db38446e2"
   },
   "outputs": [
    {
     "data": {
      "text/html": [
       "<div>\n",
       "<style scoped>\n",
       "    .dataframe tbody tr th:only-of-type {\n",
       "        vertical-align: middle;\n",
       "    }\n",
       "\n",
       "    .dataframe tbody tr th {\n",
       "        vertical-align: top;\n",
       "    }\n",
       "\n",
       "    .dataframe thead th {\n",
       "        text-align: right;\n",
       "    }\n",
       "</style>\n",
       "<table border=\"1\" class=\"dataframe\">\n",
       "  <thead>\n",
       "    <tr style=\"text-align: right;\">\n",
       "      <th></th>\n",
       "      <th>aisle</th>\n",
       "      <th>product_name</th>\n",
       "    </tr>\n",
       "  </thead>\n",
       "  <tbody>\n",
       "    <tr>\n",
       "      <th>0</th>\n",
       "      <td>fresh fruits</td>\n",
       "      <td>Banana</td>\n",
       "    </tr>\n",
       "    <tr>\n",
       "      <th>1</th>\n",
       "      <td>packaged vegetables fruits</td>\n",
       "      <td>Organic Baby Spinach</td>\n",
       "    </tr>\n",
       "    <tr>\n",
       "      <th>2</th>\n",
       "      <td>milk</td>\n",
       "      <td>Organic Whole Milk</td>\n",
       "    </tr>\n",
       "    <tr>\n",
       "      <th>3</th>\n",
       "      <td>fresh vegetables</td>\n",
       "      <td>Organic Yellow Onion</td>\n",
       "    </tr>\n",
       "    <tr>\n",
       "      <th>4</th>\n",
       "      <td>fresh dips tapenades</td>\n",
       "      <td>Original Hummus</td>\n",
       "    </tr>\n",
       "  </tbody>\n",
       "</table>\n",
       "</div>"
      ],
      "text/plain": [
       "                        aisle          product_name\n",
       "0                fresh fruits                Banana\n",
       "1  packaged vegetables fruits  Organic Baby Spinach\n",
       "2                        milk    Organic Whole Milk\n",
       "3            fresh vegetables  Organic Yellow Onion\n",
       "4        fresh dips tapenades       Original Hummus"
      ]
     },
     "execution_count": 17,
     "metadata": {},
     "output_type": "execute_result"
    }
   ],
   "source": [
    "top_prod_aisle.head()"
   ]
  },
  {
   "cell_type": "code",
   "execution_count": 18,
   "metadata": {
    "_cell_guid": "7ff79fab-ca32-47b2-8234-08ae88413688",
    "_execution_state": "idle",
    "_uuid": "447d546ef6bfd2bd41cb55a658693eb8963f32ee"
   },
   "outputs": [
    {
     "data": {
      "text/plain": [
       "Banana                    5936\n",
       "Bag of Organic Bananas    4780\n",
       "Organic Strawberries      3413\n",
       "Organic Baby Spinach      3102\n",
       "Organic Hass Avocado      2759\n",
       "Organic Avocado           2126\n",
       "Large Lemon               1904\n",
       "Organic Raspberries       1736\n",
       "Limes                     1681\n",
       "Strawberries              1632\n",
       "Name: product_name, dtype: int64"
      ]
     },
     "execution_count": 18,
     "metadata": {},
     "output_type": "execute_result"
    }
   ],
   "source": [
    "prior_product['product_name'].value_counts()[0:10]"
   ]
  },
  {
   "cell_type": "code",
   "execution_count": 19,
   "metadata": {
    "_cell_guid": "e161a1ca-178f-4f04-a2d8-2c669db2ade3",
    "_execution_state": "idle",
    "_uuid": "8734d0f2b12fa019b11ca0d626a99476ee3e91a9"
   },
   "outputs": [
    {
     "data": {
      "text/plain": [
       "22787"
      ]
     },
     "execution_count": 19,
     "metadata": {},
     "output_type": "execute_result"
    }
   ],
   "source": [
    "len(prior_product['product_name'].unique())"
   ]
  },
  {
   "cell_type": "code",
   "execution_count": 20,
   "metadata": {
    "_cell_guid": "f5271d17-59ae-4d4f-af31-4b374315bc91",
    "_execution_state": "idle",
    "_uuid": "43cdea1c3fd1b4b93085887cd489fba4bb92a9c0"
   },
   "outputs": [
    {
     "data": {
      "text/plain": [
       "(32434489, 4)"
      ]
     },
     "execution_count": 20,
     "metadata": {},
     "output_type": "execute_result"
    }
   ],
   "source": [
    "prior.shape"
   ]
  },
  {
   "cell_type": "markdown",
   "metadata": {
    "_cell_guid": "9ab7d1ff-3e41-4af1-b9a3-8b329a95608d",
    "_uuid": "984d21eaf82ce95aaf5a695654c1561beddae4b0"
   },
   "source": [
    "## Clustering Customers"
   ]
  },
  {
   "cell_type": "markdown",
   "metadata": {
    "_cell_guid": "db5b895b-e405-4b81-a9e4-1d92a421ca38",
    "_uuid": "e5535781a21bb6e9d07a0184c22ffb889ea59304"
   },
   "source": [
    "We are dealing with  143 types of product (aisle)."
   ]
  },
  {
   "cell_type": "code",
   "execution_count": 21,
   "metadata": {
    "_cell_guid": "c0ba7d89-3f7f-42c7-887d-84b6e71425bc",
    "_execution_state": "idle",
    "_uuid": "fb148a7e7977afff8351813f3dc724e9153be8b5"
   },
   "outputs": [
    {
     "data": {
      "text/plain": [
       "134"
      ]
     },
     "execution_count": 21,
     "metadata": {},
     "output_type": "execute_result"
    }
   ],
   "source": [
    "len(prior_product['aisle'].unique())"
   ]
  },
  {
   "cell_type": "markdown",
   "metadata": {
    "_cell_guid": "11d578a7-d82e-4d7e-9d39-4b43a8f8814a",
    "_uuid": "a758b7ddcce9aa741ec0ccd697b67a22c86cf7d6"
   },
   "source": [
    "Fresh fruits and fresh vegetables are the best selling goods."
   ]
  },
  {
   "cell_type": "code",
   "execution_count": 22,
   "metadata": {
    "_cell_guid": "ed3c36ed-8097-46dc-8782-f06d54c5e040",
    "_execution_state": "idle",
    "_uuid": "45eb1d82d900122914dcf077c6af081e782f0046"
   },
   "outputs": [
    {
     "data": {
      "text/plain": [
       "fresh fruits                     45429\n",
       "fresh vegetables                 43453\n",
       "packaged vegetables fruits       22132\n",
       "yogurt                           20083\n",
       "packaged cheese                  12225\n",
       "milk                             11177\n",
       "water seltzer sparkling water    10167\n",
       "soy lactosefree                   8656\n",
       "refrigerated                      8370\n",
       "chips pretzels                    8210\n",
       "Name: aisle, dtype: int64"
      ]
     },
     "execution_count": 22,
     "metadata": {},
     "output_type": "execute_result"
    }
   ],
   "source": [
    "prior_product['aisle'].value_counts()[0:10]"
   ]
  },
  {
   "cell_type": "code",
   "execution_count": 23,
   "metadata": {
    "_cell_guid": "3832e321-450f-4b8d-a49c-5a3452c9a62b",
    "_execution_state": "idle",
    "_uuid": "d75d95d43505cff1b58fa7c9e2f66416f6f4d465",
    "scrolled": true
   },
   "outputs": [
    {
     "data": {
      "text/html": [
       "<div>\n",
       "<style scoped>\n",
       "    .dataframe tbody tr th:only-of-type {\n",
       "        vertical-align: middle;\n",
       "    }\n",
       "\n",
       "    .dataframe tbody tr th {\n",
       "        vertical-align: top;\n",
       "    }\n",
       "\n",
       "    .dataframe thead th {\n",
       "        text-align: right;\n",
       "    }\n",
       "</style>\n",
       "<table border=\"1\" class=\"dataframe\">\n",
       "  <thead>\n",
       "    <tr style=\"text-align: right;\">\n",
       "      <th>aisle</th>\n",
       "      <th>air fresheners candles</th>\n",
       "      <th>asian foods</th>\n",
       "      <th>baby accessories</th>\n",
       "      <th>baby bath body care</th>\n",
       "      <th>baby food formula</th>\n",
       "      <th>bakery desserts</th>\n",
       "      <th>baking ingredients</th>\n",
       "      <th>baking supplies decor</th>\n",
       "      <th>beauty</th>\n",
       "      <th>beers coolers</th>\n",
       "      <th>...</th>\n",
       "      <th>spreads</th>\n",
       "      <th>tea</th>\n",
       "      <th>tofu meat alternatives</th>\n",
       "      <th>tortillas flat bread</th>\n",
       "      <th>trail mix snack mix</th>\n",
       "      <th>trash bags liners</th>\n",
       "      <th>vitamins supplements</th>\n",
       "      <th>water seltzer sparkling water</th>\n",
       "      <th>white wines</th>\n",
       "      <th>yogurt</th>\n",
       "    </tr>\n",
       "    <tr>\n",
       "      <th>user_id</th>\n",
       "      <th></th>\n",
       "      <th></th>\n",
       "      <th></th>\n",
       "      <th></th>\n",
       "      <th></th>\n",
       "      <th></th>\n",
       "      <th></th>\n",
       "      <th></th>\n",
       "      <th></th>\n",
       "      <th></th>\n",
       "      <th></th>\n",
       "      <th></th>\n",
       "      <th></th>\n",
       "      <th></th>\n",
       "      <th></th>\n",
       "      <th></th>\n",
       "      <th></th>\n",
       "      <th></th>\n",
       "      <th></th>\n",
       "      <th></th>\n",
       "      <th></th>\n",
       "    </tr>\n",
       "  </thead>\n",
       "  <tbody>\n",
       "    <tr>\n",
       "      <th>284</th>\n",
       "      <td>0</td>\n",
       "      <td>9</td>\n",
       "      <td>0</td>\n",
       "      <td>0</td>\n",
       "      <td>34</td>\n",
       "      <td>2</td>\n",
       "      <td>10</td>\n",
       "      <td>0</td>\n",
       "      <td>0</td>\n",
       "      <td>0</td>\n",
       "      <td>...</td>\n",
       "      <td>1</td>\n",
       "      <td>1</td>\n",
       "      <td>8</td>\n",
       "      <td>1</td>\n",
       "      <td>0</td>\n",
       "      <td>0</td>\n",
       "      <td>0</td>\n",
       "      <td>0</td>\n",
       "      <td>0</td>\n",
       "      <td>17</td>\n",
       "    </tr>\n",
       "    <tr>\n",
       "      <th>293</th>\n",
       "      <td>0</td>\n",
       "      <td>1</td>\n",
       "      <td>0</td>\n",
       "      <td>0</td>\n",
       "      <td>0</td>\n",
       "      <td>0</td>\n",
       "      <td>1</td>\n",
       "      <td>0</td>\n",
       "      <td>0</td>\n",
       "      <td>0</td>\n",
       "      <td>...</td>\n",
       "      <td>0</td>\n",
       "      <td>3</td>\n",
       "      <td>0</td>\n",
       "      <td>4</td>\n",
       "      <td>0</td>\n",
       "      <td>0</td>\n",
       "      <td>2</td>\n",
       "      <td>4</td>\n",
       "      <td>0</td>\n",
       "      <td>0</td>\n",
       "    </tr>\n",
       "    <tr>\n",
       "      <th>319</th>\n",
       "      <td>0</td>\n",
       "      <td>0</td>\n",
       "      <td>0</td>\n",
       "      <td>0</td>\n",
       "      <td>0</td>\n",
       "      <td>0</td>\n",
       "      <td>2</td>\n",
       "      <td>0</td>\n",
       "      <td>0</td>\n",
       "      <td>0</td>\n",
       "      <td>...</td>\n",
       "      <td>2</td>\n",
       "      <td>0</td>\n",
       "      <td>0</td>\n",
       "      <td>0</td>\n",
       "      <td>0</td>\n",
       "      <td>0</td>\n",
       "      <td>0</td>\n",
       "      <td>0</td>\n",
       "      <td>0</td>\n",
       "      <td>1</td>\n",
       "    </tr>\n",
       "    <tr>\n",
       "      <th>358</th>\n",
       "      <td>0</td>\n",
       "      <td>0</td>\n",
       "      <td>0</td>\n",
       "      <td>0</td>\n",
       "      <td>0</td>\n",
       "      <td>0</td>\n",
       "      <td>0</td>\n",
       "      <td>0</td>\n",
       "      <td>0</td>\n",
       "      <td>0</td>\n",
       "      <td>...</td>\n",
       "      <td>1</td>\n",
       "      <td>0</td>\n",
       "      <td>0</td>\n",
       "      <td>0</td>\n",
       "      <td>0</td>\n",
       "      <td>0</td>\n",
       "      <td>0</td>\n",
       "      <td>0</td>\n",
       "      <td>0</td>\n",
       "      <td>0</td>\n",
       "    </tr>\n",
       "    <tr>\n",
       "      <th>432</th>\n",
       "      <td>0</td>\n",
       "      <td>2</td>\n",
       "      <td>0</td>\n",
       "      <td>0</td>\n",
       "      <td>0</td>\n",
       "      <td>0</td>\n",
       "      <td>1</td>\n",
       "      <td>0</td>\n",
       "      <td>0</td>\n",
       "      <td>0</td>\n",
       "      <td>...</td>\n",
       "      <td>9</td>\n",
       "      <td>22</td>\n",
       "      <td>0</td>\n",
       "      <td>0</td>\n",
       "      <td>0</td>\n",
       "      <td>0</td>\n",
       "      <td>1</td>\n",
       "      <td>75</td>\n",
       "      <td>0</td>\n",
       "      <td>3</td>\n",
       "    </tr>\n",
       "    <tr>\n",
       "      <th>490</th>\n",
       "      <td>0</td>\n",
       "      <td>0</td>\n",
       "      <td>0</td>\n",
       "      <td>0</td>\n",
       "      <td>0</td>\n",
       "      <td>0</td>\n",
       "      <td>2</td>\n",
       "      <td>0</td>\n",
       "      <td>0</td>\n",
       "      <td>0</td>\n",
       "      <td>...</td>\n",
       "      <td>0</td>\n",
       "      <td>0</td>\n",
       "      <td>0</td>\n",
       "      <td>0</td>\n",
       "      <td>0</td>\n",
       "      <td>0</td>\n",
       "      <td>0</td>\n",
       "      <td>0</td>\n",
       "      <td>0</td>\n",
       "      <td>0</td>\n",
       "    </tr>\n",
       "    <tr>\n",
       "      <th>502</th>\n",
       "      <td>0</td>\n",
       "      <td>0</td>\n",
       "      <td>0</td>\n",
       "      <td>0</td>\n",
       "      <td>0</td>\n",
       "      <td>0</td>\n",
       "      <td>1</td>\n",
       "      <td>0</td>\n",
       "      <td>0</td>\n",
       "      <td>0</td>\n",
       "      <td>...</td>\n",
       "      <td>4</td>\n",
       "      <td>1</td>\n",
       "      <td>0</td>\n",
       "      <td>1</td>\n",
       "      <td>0</td>\n",
       "      <td>0</td>\n",
       "      <td>0</td>\n",
       "      <td>5</td>\n",
       "      <td>0</td>\n",
       "      <td>15</td>\n",
       "    </tr>\n",
       "    <tr>\n",
       "      <th>514</th>\n",
       "      <td>0</td>\n",
       "      <td>0</td>\n",
       "      <td>0</td>\n",
       "      <td>0</td>\n",
       "      <td>0</td>\n",
       "      <td>0</td>\n",
       "      <td>0</td>\n",
       "      <td>0</td>\n",
       "      <td>0</td>\n",
       "      <td>0</td>\n",
       "      <td>...</td>\n",
       "      <td>1</td>\n",
       "      <td>3</td>\n",
       "      <td>0</td>\n",
       "      <td>0</td>\n",
       "      <td>0</td>\n",
       "      <td>0</td>\n",
       "      <td>0</td>\n",
       "      <td>0</td>\n",
       "      <td>0</td>\n",
       "      <td>0</td>\n",
       "    </tr>\n",
       "    <tr>\n",
       "      <th>519</th>\n",
       "      <td>0</td>\n",
       "      <td>0</td>\n",
       "      <td>0</td>\n",
       "      <td>0</td>\n",
       "      <td>0</td>\n",
       "      <td>0</td>\n",
       "      <td>0</td>\n",
       "      <td>0</td>\n",
       "      <td>0</td>\n",
       "      <td>0</td>\n",
       "      <td>...</td>\n",
       "      <td>0</td>\n",
       "      <td>0</td>\n",
       "      <td>0</td>\n",
       "      <td>0</td>\n",
       "      <td>0</td>\n",
       "      <td>0</td>\n",
       "      <td>0</td>\n",
       "      <td>1</td>\n",
       "      <td>0</td>\n",
       "      <td>0</td>\n",
       "    </tr>\n",
       "    <tr>\n",
       "      <th>620</th>\n",
       "      <td>0</td>\n",
       "      <td>0</td>\n",
       "      <td>0</td>\n",
       "      <td>0</td>\n",
       "      <td>0</td>\n",
       "      <td>0</td>\n",
       "      <td>0</td>\n",
       "      <td>0</td>\n",
       "      <td>0</td>\n",
       "      <td>0</td>\n",
       "      <td>...</td>\n",
       "      <td>0</td>\n",
       "      <td>0</td>\n",
       "      <td>0</td>\n",
       "      <td>0</td>\n",
       "      <td>0</td>\n",
       "      <td>3</td>\n",
       "      <td>0</td>\n",
       "      <td>0</td>\n",
       "      <td>0</td>\n",
       "      <td>0</td>\n",
       "    </tr>\n",
       "  </tbody>\n",
       "</table>\n",
       "<p>10 rows × 134 columns</p>\n",
       "</div>"
      ],
      "text/plain": [
       "aisle    air fresheners candles  asian foods  baby accessories  \\\n",
       "user_id                                                          \n",
       "284                           0            9                 0   \n",
       "293                           0            1                 0   \n",
       "319                           0            0                 0   \n",
       "358                           0            0                 0   \n",
       "432                           0            2                 0   \n",
       "490                           0            0                 0   \n",
       "502                           0            0                 0   \n",
       "514                           0            0                 0   \n",
       "519                           0            0                 0   \n",
       "620                           0            0                 0   \n",
       "\n",
       "aisle    baby bath body care  baby food formula  bakery desserts  \\\n",
       "user_id                                                            \n",
       "284                        0                 34                2   \n",
       "293                        0                  0                0   \n",
       "319                        0                  0                0   \n",
       "358                        0                  0                0   \n",
       "432                        0                  0                0   \n",
       "490                        0                  0                0   \n",
       "502                        0                  0                0   \n",
       "514                        0                  0                0   \n",
       "519                        0                  0                0   \n",
       "620                        0                  0                0   \n",
       "\n",
       "aisle    baking ingredients  baking supplies decor  beauty  beers coolers  \\\n",
       "user_id                                                                     \n",
       "284                      10                      0       0              0   \n",
       "293                       1                      0       0              0   \n",
       "319                       2                      0       0              0   \n",
       "358                       0                      0       0              0   \n",
       "432                       1                      0       0              0   \n",
       "490                       2                      0       0              0   \n",
       "502                       1                      0       0              0   \n",
       "514                       0                      0       0              0   \n",
       "519                       0                      0       0              0   \n",
       "620                       0                      0       0              0   \n",
       "\n",
       "aisle    ...  spreads  tea  tofu meat alternatives  tortillas flat bread  \\\n",
       "user_id  ...                                                               \n",
       "284      ...        1    1                       8                     1   \n",
       "293      ...        0    3                       0                     4   \n",
       "319      ...        2    0                       0                     0   \n",
       "358      ...        1    0                       0                     0   \n",
       "432      ...        9   22                       0                     0   \n",
       "490      ...        0    0                       0                     0   \n",
       "502      ...        4    1                       0                     1   \n",
       "514      ...        1    3                       0                     0   \n",
       "519      ...        0    0                       0                     0   \n",
       "620      ...        0    0                       0                     0   \n",
       "\n",
       "aisle    trail mix snack mix  trash bags liners  vitamins supplements  \\\n",
       "user_id                                                                 \n",
       "284                        0                  0                     0   \n",
       "293                        0                  0                     2   \n",
       "319                        0                  0                     0   \n",
       "358                        0                  0                     0   \n",
       "432                        0                  0                     1   \n",
       "490                        0                  0                     0   \n",
       "502                        0                  0                     0   \n",
       "514                        0                  0                     0   \n",
       "519                        0                  0                     0   \n",
       "620                        0                  3                     0   \n",
       "\n",
       "aisle    water seltzer sparkling water  white wines  yogurt  \n",
       "user_id                                                      \n",
       "284                                  0            0      17  \n",
       "293                                  4            0       0  \n",
       "319                                  0            0       1  \n",
       "358                                  0            0       0  \n",
       "432                                 75            0       3  \n",
       "490                                  0            0       0  \n",
       "502                                  5            0      15  \n",
       "514                                  0            0       0  \n",
       "519                                  1            0       0  \n",
       "620                                  0            0       0  \n",
       "\n",
       "[10 rows x 134 columns]"
      ]
     },
     "execution_count": 23,
     "metadata": {},
     "output_type": "execute_result"
    }
   ],
   "source": [
    "cust_aisle = pd.crosstab(prior_product['user_id'], prior_product['aisle'])\n",
    "cust_aisle.head(10)"
   ]
  },
  {
   "cell_type": "code",
   "execution_count": 24,
   "metadata": {
    "_cell_guid": "34fbf1d7-56cf-4c6c-b20a-c79b01793765",
    "_uuid": "42f057aa954a214a097a4d0bf09d62ae06775c5c"
   },
   "outputs": [
    {
     "data": {
      "text/plain": [
       "(2500, 134)"
      ]
     },
     "execution_count": 24,
     "metadata": {},
     "output_type": "execute_result"
    }
   ],
   "source": [
    "cust_aisle.shape"
   ]
  },
  {
   "cell_type": "code",
   "execution_count": 25,
   "metadata": {
    "_cell_guid": "944ee4b7-2619-405d-9118-df799e4880c6",
    "_execution_state": "idle",
    "_uuid": "2b4de9f6e010a90bf623fa44a57bd40b4aaba6cc"
   },
   "outputs": [
    {
     "name": "stdout",
     "output_type": "stream",
     "text": [
      "variance explained: 0.7519507624716406\n",
      "variance explained: 0.7736991916613437\n",
      "variance explained: 0.7926450780096834\n",
      "variance explained: 0.8098210205815641\n",
      "variance explained: 0.8247854106189864\n",
      "variance explained: 0.8358254248952023\n",
      "variance explained: 0.8461443815799312\n",
      "variance explained: 0.8555700571878969\n"
     ]
    }
   ],
   "source": [
    "var_exp = 0\n",
    "n=5\n",
    "while var_exp < 0.85:\n",
    "    pca = PCA(n_components=n)\n",
    "    pca.fit(cust_aisle)\n",
    "    pca_samples = pca.transform(cust_aisle)\n",
    "    var_exp = sum(pca.explained_variance_ratio_)\n",
    "    print('variance explained:',var_exp)\n",
    "    n+=1\n",
    "    "
   ]
  },
  {
   "cell_type": "code",
   "execution_count": 26,
   "metadata": {
    "_uuid": "b157024a881401bc7a6cfbce3be17f994023b9da"
   },
   "outputs": [
    {
     "name": "stdout",
     "output_type": "stream",
     "text": [
      "number of components: 12\n"
     ]
    }
   ],
   "source": [
    "print('number of components:',n-1)"
   ]
  },
  {
   "cell_type": "code",
   "execution_count": 27,
   "metadata": {
    "_cell_guid": "0c226926-6b31-49cc-a41e-d6dd50adff86",
    "_execution_state": "idle",
    "_uuid": "43ff7f875b651b57d2a76779c7e13c5a7c7932ac"
   },
   "outputs": [
    {
     "data": {
      "text/html": [
       "<div>\n",
       "<style scoped>\n",
       "    .dataframe tbody tr th:only-of-type {\n",
       "        vertical-align: middle;\n",
       "    }\n",
       "\n",
       "    .dataframe tbody tr th {\n",
       "        vertical-align: top;\n",
       "    }\n",
       "\n",
       "    .dataframe thead th {\n",
       "        text-align: right;\n",
       "    }\n",
       "</style>\n",
       "<table border=\"1\" class=\"dataframe\">\n",
       "  <thead>\n",
       "    <tr style=\"text-align: right;\">\n",
       "      <th></th>\n",
       "      <th>0</th>\n",
       "      <th>1</th>\n",
       "      <th>2</th>\n",
       "      <th>3</th>\n",
       "      <th>4</th>\n",
       "      <th>5</th>\n",
       "      <th>6</th>\n",
       "      <th>7</th>\n",
       "      <th>8</th>\n",
       "      <th>9</th>\n",
       "      <th>10</th>\n",
       "      <th>11</th>\n",
       "    </tr>\n",
       "  </thead>\n",
       "  <tbody>\n",
       "    <tr>\n",
       "      <th>0</th>\n",
       "      <td>15.934004</td>\n",
       "      <td>0.356676</td>\n",
       "      <td>-14.297318</td>\n",
       "      <td>-6.959615</td>\n",
       "      <td>36.174778</td>\n",
       "      <td>-0.134109</td>\n",
       "      <td>-1.784794</td>\n",
       "      <td>-1.644191</td>\n",
       "      <td>10.242712</td>\n",
       "      <td>-6.477868</td>\n",
       "      <td>-14.205358</td>\n",
       "      <td>0.107651</td>\n",
       "    </tr>\n",
       "    <tr>\n",
       "      <th>1</th>\n",
       "      <td>-11.407664</td>\n",
       "      <td>-4.034460</td>\n",
       "      <td>-0.430994</td>\n",
       "      <td>2.417216</td>\n",
       "      <td>-0.855396</td>\n",
       "      <td>-0.796497</td>\n",
       "      <td>2.203238</td>\n",
       "      <td>-2.488338</td>\n",
       "      <td>4.965807</td>\n",
       "      <td>-2.318173</td>\n",
       "      <td>-6.053907</td>\n",
       "      <td>-0.808333</td>\n",
       "    </tr>\n",
       "    <tr>\n",
       "      <th>2</th>\n",
       "      <td>-20.954191</td>\n",
       "      <td>1.401625</td>\n",
       "      <td>2.828139</td>\n",
       "      <td>-5.304610</td>\n",
       "      <td>-2.894134</td>\n",
       "      <td>-0.150841</td>\n",
       "      <td>-1.760881</td>\n",
       "      <td>-1.275676</td>\n",
       "      <td>-0.236116</td>\n",
       "      <td>0.400853</td>\n",
       "      <td>0.562388</td>\n",
       "      <td>-1.775855</td>\n",
       "    </tr>\n",
       "    <tr>\n",
       "      <th>3</th>\n",
       "      <td>-19.592261</td>\n",
       "      <td>-1.149522</td>\n",
       "      <td>-3.760103</td>\n",
       "      <td>-2.521788</td>\n",
       "      <td>-0.028567</td>\n",
       "      <td>-0.125276</td>\n",
       "      <td>-0.377411</td>\n",
       "      <td>3.000203</td>\n",
       "      <td>-1.057264</td>\n",
       "      <td>0.239665</td>\n",
       "      <td>-0.167504</td>\n",
       "      <td>-1.496361</td>\n",
       "    </tr>\n",
       "    <tr>\n",
       "      <th>4</th>\n",
       "      <td>45.597136</td>\n",
       "      <td>-25.111308</td>\n",
       "      <td>-22.210020</td>\n",
       "      <td>42.543719</td>\n",
       "      <td>21.495227</td>\n",
       "      <td>11.696611</td>\n",
       "      <td>58.347154</td>\n",
       "      <td>15.804654</td>\n",
       "      <td>-22.943267</td>\n",
       "      <td>-12.827468</td>\n",
       "      <td>-6.058693</td>\n",
       "      <td>-1.625009</td>\n",
       "    </tr>\n",
       "  </tbody>\n",
       "</table>\n",
       "</div>"
      ],
      "text/plain": [
       "          0          1          2          3          4          5   \\\n",
       "0  15.934004   0.356676 -14.297318  -6.959615  36.174778  -0.134109   \n",
       "1 -11.407664  -4.034460  -0.430994   2.417216  -0.855396  -0.796497   \n",
       "2 -20.954191   1.401625   2.828139  -5.304610  -2.894134  -0.150841   \n",
       "3 -19.592261  -1.149522  -3.760103  -2.521788  -0.028567  -0.125276   \n",
       "4  45.597136 -25.111308 -22.210020  42.543719  21.495227  11.696611   \n",
       "\n",
       "          6          7          8          9          10        11  \n",
       "0  -1.784794  -1.644191  10.242712  -6.477868 -14.205358  0.107651  \n",
       "1   2.203238  -2.488338   4.965807  -2.318173  -6.053907 -0.808333  \n",
       "2  -1.760881  -1.275676  -0.236116   0.400853   0.562388 -1.775855  \n",
       "3  -0.377411   3.000203  -1.057264   0.239665  -0.167504 -1.496361  \n",
       "4  58.347154  15.804654 -22.943267 -12.827468  -6.058693 -1.625009  "
      ]
     },
     "execution_count": 27,
     "metadata": {},
     "output_type": "execute_result"
    }
   ],
   "source": [
    "ps = pd.DataFrame(pca_samples)\n",
    "ps.head()"
   ]
  },
  {
   "cell_type": "markdown",
   "metadata": {
    "_cell_guid": "02de6e2c-77c5-4b16-bdb6-c76125bf57ba",
    "_uuid": "e5e778abd7ce0650ed516d38fa0cd9e365001994"
   },
   "source": [
    "Checking for best combination of components to cluster"
   ]
  },
  {
   "cell_type": "code",
   "execution_count": 28,
   "metadata": {
    "_uuid": "c9a9f0c9b7b55a67f3ba29762a122ebe6518fc9d",
    "scrolled": true
   },
   "outputs": [],
   "source": [
    "import itertools\n",
    "l=np.arange(0,12)\n",
    "comb = list(itertools.combinations(l,2))\n",
    "comb = [list(c) for c in comb]"
   ]
  },
  {
   "cell_type": "code",
   "execution_count": 32,
   "metadata": {
    "_cell_guid": "063d8eae-13d0-4633-b8c2-a9912033d27d",
    "_execution_state": "idle",
    "_uuid": "1e157bb70951befafe1e3c41b1f9023c7b5205a9"
   },
   "outputs": [
    {
     "name": "stdout",
     "output_type": "stream",
     "text": [
      "(2500, 2)\n",
      "           2          1\n",
      "0 -14.297318   0.356676\n",
      "1  -0.430994  -4.034460\n",
      "2   2.828139   1.401625\n",
      "3  -3.760103  -1.149522\n",
      "4 -22.210020 -25.111308\n",
      "combination: [2, 1]\n"
     ]
    },
    {
     "name": "stderr",
     "output_type": "stream",
     "text": [
      "/Users/erickiarie/.pyenv/versions/3.6.9/lib/python3.6/site-packages/matplotlib/cbook/__init__.py:1402: FutureWarning: Support for multi-dimensional indexing (e.g. `obj[:, None]`) is deprecated and will be removed in a future version.  Convert to a numpy array before indexing instead.\n",
      "  x[:, None]\n",
      "/Users/erickiarie/.pyenv/versions/3.6.9/lib/python3.6/site-packages/matplotlib/axes/_base.py:276: FutureWarning: Support for multi-dimensional indexing (e.g. `obj[:, None]`) is deprecated and will be removed in a future version.  Convert to a numpy array before indexing instead.\n",
      "  x = x[:, np.newaxis]\n",
      "/Users/erickiarie/.pyenv/versions/3.6.9/lib/python3.6/site-packages/matplotlib/axes/_base.py:278: FutureWarning: Support for multi-dimensional indexing (e.g. `obj[:, None]`) is deprecated and will be removed in a future version.  Convert to a numpy array before indexing instead.\n",
      "  y = y[:, np.newaxis]\n"
     ]
    },
    {
     "data": {
      "image/png": "[encoded data removed]",
      "text/plain": [
       "<Figure size 576x576 with 1 Axes>"
      ]
     },
     "metadata": {
      "needs_background": "light"
     },
     "output_type": "display_data"
    },
    {
     "name": "stdout",
     "output_type": "stream",
     "text": [
      "(2500, 2)\n",
      "           4          1\n",
      "0  36.174778   0.356676\n",
      "1  -0.855396  -4.034460\n",
      "2  -2.894134   1.401625\n",
      "3  -0.028567  -1.149522\n",
      "4  21.495227 -25.111308\n",
      "combination: [4, 1]\n"
     ]
    },
    {
     "name": "stderr",
     "output_type": "stream",
     "text": [
      "/Users/erickiarie/.pyenv/versions/3.6.9/lib/python3.6/site-packages/matplotlib/cbook/__init__.py:1402: FutureWarning: Support for multi-dimensional indexing (e.g. `obj[:, None]`) is deprecated and will be removed in a future version.  Convert to a numpy array before indexing instead.\n",
      "  x[:, None]\n",
      "/Users/erickiarie/.pyenv/versions/3.6.9/lib/python3.6/site-packages/matplotlib/axes/_base.py:276: FutureWarning: Support for multi-dimensional indexing (e.g. `obj[:, None]`) is deprecated and will be removed in a future version.  Convert to a numpy array before indexing instead.\n",
      "  x = x[:, np.newaxis]\n",
      "/Users/erickiarie/.pyenv/versions/3.6.9/lib/python3.6/site-packages/matplotlib/axes/_base.py:278: FutureWarning: Support for multi-dimensional indexing (e.g. `obj[:, None]`) is deprecated and will be removed in a future version.  Convert to a numpy array before indexing instead.\n",
      "  y = y[:, np.newaxis]\n"
     ]
    },
    {
     "data": {
      "image/png": "[encoded data removed]",
      "text/plain": [
       "<Figure size 576x576 with 1 Axes>"
      ]
     },
     "metadata": {
      "needs_background": "light"
     },
     "output_type": "display_data"
    },
    {
     "name": "stdout",
     "output_type": "stream",
     "text": [
      "(2500, 2)\n",
      "           7          1\n",
      "0  -1.644191   0.356676\n",
      "1  -2.488338  -4.034460\n",
      "2  -1.275676   1.401625\n",
      "3   3.000203  -1.149522\n",
      "4  15.804654 -25.111308\n",
      "combination: [7, 1]\n"
     ]
    },
    {
     "name": "stderr",
     "output_type": "stream",
     "text": [
      "/Users/erickiarie/.pyenv/versions/3.6.9/lib/python3.6/site-packages/matplotlib/cbook/__init__.py:1402: FutureWarning: Support for multi-dimensional indexing (e.g. `obj[:, None]`) is deprecated and will be removed in a future version.  Convert to a numpy array before indexing instead.\n",
      "  x[:, None]\n",
      "/Users/erickiarie/.pyenv/versions/3.6.9/lib/python3.6/site-packages/matplotlib/axes/_base.py:276: FutureWarning: Support for multi-dimensional indexing (e.g. `obj[:, None]`) is deprecated and will be removed in a future version.  Convert to a numpy array before indexing instead.\n",
      "  x = x[:, np.newaxis]\n",
      "/Users/erickiarie/.pyenv/versions/3.6.9/lib/python3.6/site-packages/matplotlib/axes/_base.py:278: FutureWarning: Support for multi-dimensional indexing (e.g. `obj[:, None]`) is deprecated and will be removed in a future version.  Convert to a numpy array before indexing instead.\n",
      "  y = y[:, np.newaxis]\n"
     ]
    },
    {
     "data": {
      "image/png": "[encoded data removed]",
      "text/plain": [
       "<Figure size 576x576 with 1 Axes>"
      ]
     },
     "metadata": {
      "needs_background": "light"
     },
     "output_type": "display_data"
    },
    {
     "name": "stdout",
     "output_type": "stream",
     "text": [
      "(2500, 2)\n",
      "           9          1\n",
      "0  -6.477868   0.356676\n",
      "1  -2.318173  -4.034460\n",
      "2   0.400853   1.401625\n",
      "3   0.239665  -1.149522\n",
      "4 -12.827468 -25.111308\n",
      "combination: [9, 1]\n"
     ]
    },
    {
     "name": "stderr",
     "output_type": "stream",
     "text": [
      "/Users/erickiarie/.pyenv/versions/3.6.9/lib/python3.6/site-packages/matplotlib/cbook/__init__.py:1402: FutureWarning: Support for multi-dimensional indexing (e.g. `obj[:, None]`) is deprecated and will be removed in a future version.  Convert to a numpy array before indexing instead.\n",
      "  x[:, None]\n",
      "/Users/erickiarie/.pyenv/versions/3.6.9/lib/python3.6/site-packages/matplotlib/axes/_base.py:276: FutureWarning: Support for multi-dimensional indexing (e.g. `obj[:, None]`) is deprecated and will be removed in a future version.  Convert to a numpy array before indexing instead.\n",
      "  x = x[:, np.newaxis]\n",
      "/Users/erickiarie/.pyenv/versions/3.6.9/lib/python3.6/site-packages/matplotlib/axes/_base.py:278: FutureWarning: Support for multi-dimensional indexing (e.g. `obj[:, None]`) is deprecated and will be removed in a future version.  Convert to a numpy array before indexing instead.\n",
      "  y = y[:, np.newaxis]\n"
     ]
    },
    {
     "data": {
      "image/png": "[encoded data removed]",
      "text/plain": [
       "<Figure size 576x576 with 1 Axes>"
      ]
     },
     "metadata": {
      "needs_background": "light"
     },
     "output_type": "display_data"
    }
   ],
   "source": [
    "from matplotlib import pyplot as plt\n",
    "from mpl_toolkits.mplot3d import Axes3D\n",
    "from mpl_toolkits.mplot3d import proj3d\n",
    "\n",
    "# Best combinations are with PC 1\n",
    "bst_comb = [[2,1],[4,1],[7,1],[9,1]]\n",
    "\n",
    "for c in bst_comb:\n",
    "     tocluster = pd.DataFrame(ps[c])\n",
    "     print (tocluster.shape)\n",
    "     print (tocluster.head())\n",
    "     print('combination:',c)\n",
    "     fig = plt.figure(figsize=(8,8))\n",
    "     plt.plot(tocluster[c[0]], tocluster[c[1]], 'o', markersize=2, color='blue', alpha=0.5, label='class1')\n",
    "\n",
    "     plt.xlabel('x_values')\n",
    "     plt.ylabel('y_values')\n",
    "     plt.legend()\n",
    "     plt.show()\n"
   ]
  },
  {
   "cell_type": "markdown",
   "metadata": {
    "_uuid": "34d9637743c3f4aa05c9765cc8fe2250e1a2c633"
   },
   "source": [
    "Checking for best k using Elbow curve for different combinations"
   ]
  },
  {
   "cell_type": "code",
   "execution_count": 33,
   "metadata": {
    "_uuid": "ee71ff939468581ef516a2747c6503e299ca0cf7"
   },
   "outputs": [
    {
     "data": {
      "image/png": "[encoded data removed]",
      "text/plain": [
       "<Figure size 432x288 with 1 Axes>"
      ]
     },
     "metadata": {
      "needs_background": "light"
     },
     "output_type": "display_data"
    }
   ],
   "source": [
    "from sklearn.cluster import KMeans\n",
    "from sklearn.metrics import silhouette_score\n",
    "\n",
    "for c in bst_comb:\n",
    "    tocluster = pd.DataFrame(ps[c])\n",
    "    Ks = range(1, 10)\n",
    "    km = [KMeans(n_clusters=i) for i in Ks]\n",
    "    score = [km[i].fit(tocluster).inertia_ for i in range(len(km))]\n",
    "    #score = [-s for s in score]\n",
    "    l = 'combination' + str(c)\n",
    "    plt.plot(Ks,score, 'x-', label=c)\n",
    "    plt.xlabel('k')\n",
    "    plt.ylabel('Sum of squared distances')\n",
    "    plt.title('Elbow Method For Optimal k')\n",
    "    plt.legend()\n",
    "plt.show()\n",
    "    "
   ]
  },
  {
   "cell_type": "code",
   "execution_count": 34,
   "metadata": {
    "_cell_guid": "46916624-0f1e-45b4-9c58-3a749bc7e850",
    "_execution_state": "idle",
    "_uuid": "9ec8b63031a55ef7ca1980cc296e195ce1c8c81b"
   },
   "outputs": [
    {
     "name": "stdout",
     "output_type": "stream",
     "text": [
      "best score: 0.7241537874580475\n",
      "best combination: [9, 1]\n"
     ]
    }
   ],
   "source": [
    "from sklearn.cluster import KMeans\n",
    "from sklearn.metrics import silhouette_score\n",
    "\n",
    "max_score = 0\n",
    "for c in bst_comb:\n",
    "    tocluster = pd.DataFrame(ps[c])\n",
    "    clusterer = KMeans(n_clusters=4,random_state=42).fit(tocluster)\n",
    "    labels = clusterer.labels_\n",
    "    s = silhouette_score(tocluster,labels, metric='euclidean')\n",
    "    if s>max_score:\n",
    "        max_score = s\n",
    "        bst_combination = c\n",
    "\n",
    "print('best score:',max_score)\n",
    "print('best combination:',bst_combination)\n",
    "\n"
   ]
  },
  {
   "cell_type": "markdown",
   "metadata": {
    "_uuid": "518c05af7eb1dbb08856013c0a0434d747d06eb5"
   },
   "source": [
    "Best silhoutte score for k = 4 appears for combination (1,9)"
   ]
  },
  {
   "cell_type": "markdown",
   "metadata": {
    "_uuid": "37ee3495ced9cbf215224267ae8a64cc02252617"
   },
   "source": [
    "### Generating clusters for best k and combination"
   ]
  },
  {
   "cell_type": "code",
   "execution_count": 35,
   "metadata": {
    "_uuid": "6a3986f23d2343f3cd0a852cfc073341be85adc8"
   },
   "outputs": [
    {
     "name": "stdout",
     "output_type": "stream",
     "text": [
      "(2500, 2)\n",
      "           9          1\n",
      "0  -6.477868   0.356676\n",
      "1  -2.318173  -4.034460\n",
      "2   0.400853   1.401625\n",
      "3   0.239665  -1.149522\n",
      "4 -12.827468 -25.111308\n"
     ]
    },
    {
     "data": {
      "text/html": [
       "<div>\n",
       "<style scoped>\n",
       "    .dataframe tbody tr th:only-of-type {\n",
       "        vertical-align: middle;\n",
       "    }\n",
       "\n",
       "    .dataframe tbody tr th {\n",
       "        vertical-align: top;\n",
       "    }\n",
       "\n",
       "    .dataframe thead th {\n",
       "        text-align: right;\n",
       "    }\n",
       "</style>\n",
       "<table border=\"1\" class=\"dataframe\">\n",
       "  <thead>\n",
       "    <tr style=\"text-align: right;\">\n",
       "      <th></th>\n",
       "      <th>9</th>\n",
       "      <th>1</th>\n",
       "    </tr>\n",
       "  </thead>\n",
       "  <tbody>\n",
       "    <tr>\n",
       "      <th>count</th>\n",
       "      <td>2.500000e+03</td>\n",
       "      <td>2.500000e+03</td>\n",
       "    </tr>\n",
       "    <tr>\n",
       "      <th>mean</th>\n",
       "      <td>4.988010e-16</td>\n",
       "      <td>3.753442e-16</td>\n",
       "    </tr>\n",
       "    <tr>\n",
       "      <th>std</th>\n",
       "      <td>7.735048e+00</td>\n",
       "      <td>3.264063e+01</td>\n",
       "    </tr>\n",
       "    <tr>\n",
       "      <th>min</th>\n",
       "      <td>-7.595316e+01</td>\n",
       "      <td>-1.509157e+02</td>\n",
       "    </tr>\n",
       "    <tr>\n",
       "      <th>25%</th>\n",
       "      <td>-1.239525e+00</td>\n",
       "      <td>-3.128212e+00</td>\n",
       "    </tr>\n",
       "    <tr>\n",
       "      <th>50%</th>\n",
       "      <td>4.540914e-01</td>\n",
       "      <td>1.716585e+00</td>\n",
       "    </tr>\n",
       "    <tr>\n",
       "      <th>75%</th>\n",
       "      <td>1.993701e+00</td>\n",
       "      <td>3.897330e+00</td>\n",
       "    </tr>\n",
       "    <tr>\n",
       "      <th>max</th>\n",
       "      <td>1.295908e+02</td>\n",
       "      <td>1.389279e+03</td>\n",
       "    </tr>\n",
       "  </tbody>\n",
       "</table>\n",
       "</div>"
      ],
      "text/plain": [
       "                  9             1\n",
       "count  2.500000e+03  2.500000e+03\n",
       "mean   4.988010e-16  3.753442e-16\n",
       "std    7.735048e+00  3.264063e+01\n",
       "min   -7.595316e+01 -1.509157e+02\n",
       "25%   -1.239525e+00 -3.128212e+00\n",
       "50%    4.540914e-01  1.716585e+00\n",
       "75%    1.993701e+00  3.897330e+00\n",
       "max    1.295908e+02  1.389279e+03"
      ]
     },
     "execution_count": 35,
     "metadata": {},
     "output_type": "execute_result"
    }
   ],
   "source": [
    "#Filtering Datasets\n",
    "tocluster2 = pd.DataFrame(ps[[9,1]])\n",
    "#tocluster2.columns = ['9','1']\n",
    "print (tocluster2.shape)\n",
    "print (tocluster2.head())\n",
    "tocluster2.describe()"
   ]
  },
  {
   "cell_type": "code",
   "execution_count": 36,
   "metadata": {
    "_uuid": "b74c1b76f4d86af95f91232275bf1e4ff9cbcde4"
   },
   "outputs": [
    {
     "name": "stderr",
     "output_type": "stream",
     "text": [
      "/Users/erickiarie/.pyenv/versions/3.6.9/lib/python3.6/site-packages/matplotlib/cbook/__init__.py:1402: FutureWarning: Support for multi-dimensional indexing (e.g. `obj[:, None]`) is deprecated and will be removed in a future version.  Convert to a numpy array before indexing instead.\n",
      "  x[:, None]\n",
      "/Users/erickiarie/.pyenv/versions/3.6.9/lib/python3.6/site-packages/matplotlib/axes/_base.py:276: FutureWarning: Support for multi-dimensional indexing (e.g. `obj[:, None]`) is deprecated and will be removed in a future version.  Convert to a numpy array before indexing instead.\n",
      "  x = x[:, np.newaxis]\n",
      "/Users/erickiarie/.pyenv/versions/3.6.9/lib/python3.6/site-packages/matplotlib/axes/_base.py:278: FutureWarning: Support for multi-dimensional indexing (e.g. `obj[:, None]`) is deprecated and will be removed in a future version.  Convert to a numpy array before indexing instead.\n",
      "  y = y[:, np.newaxis]\n"
     ]
    },
    {
     "data": {
      "image/png": "[encoded data removed]",
      "text/plain": [
       "<Figure size 576x576 with 1 Axes>"
      ]
     },
     "metadata": {
      "needs_background": "light"
     },
     "output_type": "display_data"
    }
   ],
   "source": [
    "fig = plt.figure(figsize=(8,8))\n",
    "plt.plot(tocluster2[9], tocluster2[1], 'o', markersize=2, color='blue', alpha=0.5, label='class1')\n",
    "\n",
    "plt.xlabel('x_values')\n",
    "plt.ylabel('y_values')\n",
    "# axes = plt.gca()\n",
    "# axes.set_xlim([-100,100])\n",
    "# axes.set_ylim([-200,500])\n",
    "plt.legend()\n",
    "plt.show()"
   ]
  },
  {
   "cell_type": "code",
   "execution_count": 37,
   "metadata": {
    "_uuid": "711331bdbf8646a9c74e5d6990faa0759a8f068b"
   },
   "outputs": [
    {
     "name": "stdout",
     "output_type": "stream",
     "text": [
      "(2500, 2)\n"
     ]
    },
    {
     "data": {
      "text/html": [
       "<div>\n",
       "<style scoped>\n",
       "    .dataframe tbody tr th:only-of-type {\n",
       "        vertical-align: middle;\n",
       "    }\n",
       "\n",
       "    .dataframe tbody tr th {\n",
       "        vertical-align: top;\n",
       "    }\n",
       "\n",
       "    .dataframe thead th {\n",
       "        text-align: right;\n",
       "    }\n",
       "</style>\n",
       "<table border=\"1\" class=\"dataframe\">\n",
       "  <thead>\n",
       "    <tr style=\"text-align: right;\">\n",
       "      <th></th>\n",
       "      <th>9</th>\n",
       "      <th>1</th>\n",
       "    </tr>\n",
       "  </thead>\n",
       "  <tbody>\n",
       "    <tr>\n",
       "      <th>count</th>\n",
       "      <td>2.500000e+03</td>\n",
       "      <td>2.500000e+03</td>\n",
       "    </tr>\n",
       "    <tr>\n",
       "      <th>mean</th>\n",
       "      <td>4.988010e-16</td>\n",
       "      <td>3.753442e-16</td>\n",
       "    </tr>\n",
       "    <tr>\n",
       "      <th>std</th>\n",
       "      <td>7.735048e+00</td>\n",
       "      <td>3.264063e+01</td>\n",
       "    </tr>\n",
       "    <tr>\n",
       "      <th>min</th>\n",
       "      <td>-7.595316e+01</td>\n",
       "      <td>-1.509157e+02</td>\n",
       "    </tr>\n",
       "    <tr>\n",
       "      <th>25%</th>\n",
       "      <td>-1.239525e+00</td>\n",
       "      <td>-3.128212e+00</td>\n",
       "    </tr>\n",
       "    <tr>\n",
       "      <th>50%</th>\n",
       "      <td>4.540914e-01</td>\n",
       "      <td>1.716585e+00</td>\n",
       "    </tr>\n",
       "    <tr>\n",
       "      <th>75%</th>\n",
       "      <td>1.993701e+00</td>\n",
       "      <td>3.897330e+00</td>\n",
       "    </tr>\n",
       "    <tr>\n",
       "      <th>max</th>\n",
       "      <td>1.295908e+02</td>\n",
       "      <td>1.389279e+03</td>\n",
       "    </tr>\n",
       "  </tbody>\n",
       "</table>\n",
       "</div>"
      ],
      "text/plain": [
       "                  9             1\n",
       "count  2.500000e+03  2.500000e+03\n",
       "mean   4.988010e-16  3.753442e-16\n",
       "std    7.735048e+00  3.264063e+01\n",
       "min   -7.595316e+01 -1.509157e+02\n",
       "25%   -1.239525e+00 -3.128212e+00\n",
       "50%    4.540914e-01  1.716585e+00\n",
       "75%    1.993701e+00  3.897330e+00\n",
       "max    1.295908e+02  1.389279e+03"
      ]
     },
     "execution_count": 37,
     "metadata": {},
     "output_type": "execute_result"
    }
   ],
   "source": [
    "#outlier treatment\n",
    "def replace(group):\n",
    "    mean, std = group.mean(), group.std()\n",
    "    outliers = (group - mean).abs() > 3*std\n",
    "    group[outliers] = mean\n",
    "    return group\n",
    "\n",
    "tocluster2.transform(replace)\n",
    "\n",
    "print(tocluster2.shape)\n",
    "tocluster.describe()\n"
   ]
  },
  {
   "cell_type": "code",
   "execution_count": 38,
   "metadata": {
    "_uuid": "6408c03f3a1a08f727b1e348d1a03dcb608fef1f"
   },
   "outputs": [
    {
     "name": "stderr",
     "output_type": "stream",
     "text": [
      "/Users/erickiarie/.pyenv/versions/3.6.9/lib/python3.6/site-packages/matplotlib/cbook/__init__.py:1402: FutureWarning: Support for multi-dimensional indexing (e.g. `obj[:, None]`) is deprecated and will be removed in a future version.  Convert to a numpy array before indexing instead.\n",
      "  x[:, None]\n",
      "/Users/erickiarie/.pyenv/versions/3.6.9/lib/python3.6/site-packages/matplotlib/axes/_base.py:276: FutureWarning: Support for multi-dimensional indexing (e.g. `obj[:, None]`) is deprecated and will be removed in a future version.  Convert to a numpy array before indexing instead.\n",
      "  x = x[:, np.newaxis]\n",
      "/Users/erickiarie/.pyenv/versions/3.6.9/lib/python3.6/site-packages/matplotlib/axes/_base.py:278: FutureWarning: Support for multi-dimensional indexing (e.g. `obj[:, None]`) is deprecated and will be removed in a future version.  Convert to a numpy array before indexing instead.\n",
      "  y = y[:, np.newaxis]\n"
     ]
    },
    {
     "data": {
      "image/png": "[encoded data removed]",
      "text/plain": [
       "<Figure size 576x576 with 1 Axes>"
      ]
     },
     "metadata": {
      "needs_background": "light"
     },
     "output_type": "display_data"
    }
   ],
   "source": [
    "fig = plt.figure(figsize=(8,8))\n",
    "plt.plot(tocluster2[9], tocluster2[1], 'o', markersize=2, color='blue', alpha=0.5, label='class1')\n",
    "\n",
    "plt.xlabel('x_values')\n",
    "plt.ylabel('y_values')\n",
    "# axes = plt.gca()\n",
    "# axes.set_xlim([-100,100])\n",
    "# axes.set_ylim([-200,500])\n",
    "plt.legend()\n",
    "plt.show()"
   ]
  },
  {
   "cell_type": "code",
   "execution_count": 39,
   "metadata": {
    "_uuid": "8951689fd1e7c306eef0cb0424185b42569d1718"
   },
   "outputs": [
    {
     "name": "stdout",
     "output_type": "stream",
     "text": [
      "[[  0.21686112   2.37095502]\n",
      " [  0.95598193 -14.90208084]\n",
      " [ -0.73877942 -57.04161907]\n",
      " [ -0.25822045  35.62065058]]\n"
     ]
    }
   ],
   "source": [
    "clusterer2 = KMeans(n_clusters=4,random_state=42).fit(tocluster2)\n",
    "centers = clusterer2.cluster_centers_\n",
    "c_preds = clusterer2.predict(tocluster2)\n",
    "print(centers)"
   ]
  },
  {
   "cell_type": "code",
   "execution_count": 40,
   "metadata": {
    "_cell_guid": "b71cd8ad-3541-42a3-8791-80208c8d50d3",
    "_execution_state": "idle",
    "_uuid": "a30458b87dbca7645c89de21c2e3c69b061c3e3e"
   },
   "outputs": [
    {
     "name": "stdout",
     "output_type": "stream",
     "text": [
      "[0 0 0 0 1 0 0 0 0 0 1 0 0 0 0 0 0 0 0 0 0 0 3 0 0 2 0 2 0 0 0 0 0 0 0 0 0\n",
      " 0 0 1 0 0 0 0 2 0 0 1 0 0 0 0 0 0 0 3 0 0 0 0 0 0 0 0 3 0 0 0 0 1 3 0 0 0\n",
      " 0 0 0 0 0 0 0 0 0 1 0 0 0 1 0 1 1 0 0 1 0 0 0 0 0 0]\n"
     ]
    }
   ],
   "source": [
    "print (c_preds[0:100])"
   ]
  },
  {
   "cell_type": "markdown",
   "metadata": {
    "_cell_guid": "1dd87800-ede5-46b9-b278-a68662e5e1b3",
    "_uuid": "4b9f5a1e2324b3b8649c970d959068dbe9feb937"
   },
   "source": [
    "Here is how our clusters appear"
   ]
  },
  {
   "cell_type": "code",
   "execution_count": 41,
   "metadata": {
    "_cell_guid": "e3f8e5e9-ed1f-45eb-a26b-1a6d6e61630d",
    "_execution_state": "idle",
    "_uuid": "ce81e1923509f0ed42a2a59c1b35db0242d8624f",
    "scrolled": false
   },
   "outputs": [
    {
     "name": "stdout",
     "output_type": "stream",
     "text": [
      "['orange', 'orange', 'orange', 'orange', 'blue', 'orange', 'orange', 'orange', 'orange', 'orange']\n"
     ]
    },
    {
     "data": {
      "image/png": "[encoded data removed]",
      "text/plain": [
       "<Figure size 576x576 with 1 Axes>"
      ]
     },
     "metadata": {
      "needs_background": "light"
     },
     "output_type": "display_data"
    }
   ],
   "source": [
    "fig = plt.figure(figsize=(8,8))\n",
    "colors = ['orange','blue','purple','green']\n",
    "colored = [colors[k] for k in c_preds]\n",
    "print (colored[0:10])\n",
    "plt.scatter(tocluster2[9],tocluster2[1],  color = colored)\n",
    "for ci,c in enumerate(centers):\n",
    "    plt.plot(c[0], c[1], 'o', markersize=8, color='red', alpha=0.9, label=''+str(ci))\n",
    "\n",
    "plt.xlabel('x_values')\n",
    "plt.ylabel('y_values')\n",
    "#plt.legend()\n",
    "plt.show()"
   ]
  },
  {
   "cell_type": "code",
   "execution_count": 42,
   "metadata": {
    "_cell_guid": "cfc8d6a5-9458-4bb7-ae1e-0af49ada625f",
    "_execution_state": "idle",
    "_uuid": "d13fb574653bc558362b8ad1d9ccfbe1fa2593a9"
   },
   "outputs": [
    {
     "data": {
      "text/html": [
       "<div>\n",
       "<style scoped>\n",
       "    .dataframe tbody tr th:only-of-type {\n",
       "        vertical-align: middle;\n",
       "    }\n",
       "\n",
       "    .dataframe tbody tr th {\n",
       "        vertical-align: top;\n",
       "    }\n",
       "\n",
       "    .dataframe thead th {\n",
       "        text-align: right;\n",
       "    }\n",
       "</style>\n",
       "<table border=\"1\" class=\"dataframe\">\n",
       "  <thead>\n",
       "    <tr style=\"text-align: right;\">\n",
       "      <th>aisle</th>\n",
       "      <th>air fresheners candles</th>\n",
       "      <th>asian foods</th>\n",
       "      <th>baby accessories</th>\n",
       "      <th>baby bath body care</th>\n",
       "      <th>baby food formula</th>\n",
       "      <th>bakery desserts</th>\n",
       "      <th>baking ingredients</th>\n",
       "      <th>baking supplies decor</th>\n",
       "      <th>beauty</th>\n",
       "      <th>beers coolers</th>\n",
       "      <th>...</th>\n",
       "      <th>tea</th>\n",
       "      <th>tofu meat alternatives</th>\n",
       "      <th>tortillas flat bread</th>\n",
       "      <th>trail mix snack mix</th>\n",
       "      <th>trash bags liners</th>\n",
       "      <th>vitamins supplements</th>\n",
       "      <th>water seltzer sparkling water</th>\n",
       "      <th>white wines</th>\n",
       "      <th>yogurt</th>\n",
       "      <th>cluster</th>\n",
       "    </tr>\n",
       "    <tr>\n",
       "      <th>user_id</th>\n",
       "      <th></th>\n",
       "      <th></th>\n",
       "      <th></th>\n",
       "      <th></th>\n",
       "      <th></th>\n",
       "      <th></th>\n",
       "      <th></th>\n",
       "      <th></th>\n",
       "      <th></th>\n",
       "      <th></th>\n",
       "      <th></th>\n",
       "      <th></th>\n",
       "      <th></th>\n",
       "      <th></th>\n",
       "      <th></th>\n",
       "      <th></th>\n",
       "      <th></th>\n",
       "      <th></th>\n",
       "      <th></th>\n",
       "      <th></th>\n",
       "      <th></th>\n",
       "    </tr>\n",
       "  </thead>\n",
       "  <tbody>\n",
       "    <tr>\n",
       "      <th>284</th>\n",
       "      <td>0</td>\n",
       "      <td>9</td>\n",
       "      <td>0</td>\n",
       "      <td>0</td>\n",
       "      <td>34</td>\n",
       "      <td>2</td>\n",
       "      <td>10</td>\n",
       "      <td>0</td>\n",
       "      <td>0</td>\n",
       "      <td>0</td>\n",
       "      <td>...</td>\n",
       "      <td>1</td>\n",
       "      <td>8</td>\n",
       "      <td>1</td>\n",
       "      <td>0</td>\n",
       "      <td>0</td>\n",
       "      <td>0</td>\n",
       "      <td>0</td>\n",
       "      <td>0</td>\n",
       "      <td>17</td>\n",
       "      <td>0</td>\n",
       "    </tr>\n",
       "    <tr>\n",
       "      <th>293</th>\n",
       "      <td>0</td>\n",
       "      <td>1</td>\n",
       "      <td>0</td>\n",
       "      <td>0</td>\n",
       "      <td>0</td>\n",
       "      <td>0</td>\n",
       "      <td>1</td>\n",
       "      <td>0</td>\n",
       "      <td>0</td>\n",
       "      <td>0</td>\n",
       "      <td>...</td>\n",
       "      <td>3</td>\n",
       "      <td>0</td>\n",
       "      <td>4</td>\n",
       "      <td>0</td>\n",
       "      <td>0</td>\n",
       "      <td>2</td>\n",
       "      <td>4</td>\n",
       "      <td>0</td>\n",
       "      <td>0</td>\n",
       "      <td>0</td>\n",
       "    </tr>\n",
       "    <tr>\n",
       "      <th>319</th>\n",
       "      <td>0</td>\n",
       "      <td>0</td>\n",
       "      <td>0</td>\n",
       "      <td>0</td>\n",
       "      <td>0</td>\n",
       "      <td>0</td>\n",
       "      <td>2</td>\n",
       "      <td>0</td>\n",
       "      <td>0</td>\n",
       "      <td>0</td>\n",
       "      <td>...</td>\n",
       "      <td>0</td>\n",
       "      <td>0</td>\n",
       "      <td>0</td>\n",
       "      <td>0</td>\n",
       "      <td>0</td>\n",
       "      <td>0</td>\n",
       "      <td>0</td>\n",
       "      <td>0</td>\n",
       "      <td>1</td>\n",
       "      <td>0</td>\n",
       "    </tr>\n",
       "    <tr>\n",
       "      <th>358</th>\n",
       "      <td>0</td>\n",
       "      <td>0</td>\n",
       "      <td>0</td>\n",
       "      <td>0</td>\n",
       "      <td>0</td>\n",
       "      <td>0</td>\n",
       "      <td>0</td>\n",
       "      <td>0</td>\n",
       "      <td>0</td>\n",
       "      <td>0</td>\n",
       "      <td>...</td>\n",
       "      <td>0</td>\n",
       "      <td>0</td>\n",
       "      <td>0</td>\n",
       "      <td>0</td>\n",
       "      <td>0</td>\n",
       "      <td>0</td>\n",
       "      <td>0</td>\n",
       "      <td>0</td>\n",
       "      <td>0</td>\n",
       "      <td>0</td>\n",
       "    </tr>\n",
       "    <tr>\n",
       "      <th>432</th>\n",
       "      <td>0</td>\n",
       "      <td>2</td>\n",
       "      <td>0</td>\n",
       "      <td>0</td>\n",
       "      <td>0</td>\n",
       "      <td>0</td>\n",
       "      <td>1</td>\n",
       "      <td>0</td>\n",
       "      <td>0</td>\n",
       "      <td>0</td>\n",
       "      <td>...</td>\n",
       "      <td>22</td>\n",
       "      <td>0</td>\n",
       "      <td>0</td>\n",
       "      <td>0</td>\n",
       "      <td>0</td>\n",
       "      <td>1</td>\n",
       "      <td>75</td>\n",
       "      <td>0</td>\n",
       "      <td>3</td>\n",
       "      <td>1</td>\n",
       "    </tr>\n",
       "    <tr>\n",
       "      <th>490</th>\n",
       "      <td>0</td>\n",
       "      <td>0</td>\n",
       "      <td>0</td>\n",
       "      <td>0</td>\n",
       "      <td>0</td>\n",
       "      <td>0</td>\n",
       "      <td>2</td>\n",
       "      <td>0</td>\n",
       "      <td>0</td>\n",
       "      <td>0</td>\n",
       "      <td>...</td>\n",
       "      <td>0</td>\n",
       "      <td>0</td>\n",
       "      <td>0</td>\n",
       "      <td>0</td>\n",
       "      <td>0</td>\n",
       "      <td>0</td>\n",
       "      <td>0</td>\n",
       "      <td>0</td>\n",
       "      <td>0</td>\n",
       "      <td>0</td>\n",
       "    </tr>\n",
       "    <tr>\n",
       "      <th>502</th>\n",
       "      <td>0</td>\n",
       "      <td>0</td>\n",
       "      <td>0</td>\n",
       "      <td>0</td>\n",
       "      <td>0</td>\n",
       "      <td>0</td>\n",
       "      <td>1</td>\n",
       "      <td>0</td>\n",
       "      <td>0</td>\n",
       "      <td>0</td>\n",
       "      <td>...</td>\n",
       "      <td>1</td>\n",
       "      <td>0</td>\n",
       "      <td>1</td>\n",
       "      <td>0</td>\n",
       "      <td>0</td>\n",
       "      <td>0</td>\n",
       "      <td>5</td>\n",
       "      <td>0</td>\n",
       "      <td>15</td>\n",
       "      <td>0</td>\n",
       "    </tr>\n",
       "    <tr>\n",
       "      <th>514</th>\n",
       "      <td>0</td>\n",
       "      <td>0</td>\n",
       "      <td>0</td>\n",
       "      <td>0</td>\n",
       "      <td>0</td>\n",
       "      <td>0</td>\n",
       "      <td>0</td>\n",
       "      <td>0</td>\n",
       "      <td>0</td>\n",
       "      <td>0</td>\n",
       "      <td>...</td>\n",
       "      <td>3</td>\n",
       "      <td>0</td>\n",
       "      <td>0</td>\n",
       "      <td>0</td>\n",
       "      <td>0</td>\n",
       "      <td>0</td>\n",
       "      <td>0</td>\n",
       "      <td>0</td>\n",
       "      <td>0</td>\n",
       "      <td>0</td>\n",
       "    </tr>\n",
       "    <tr>\n",
       "      <th>519</th>\n",
       "      <td>0</td>\n",
       "      <td>0</td>\n",
       "      <td>0</td>\n",
       "      <td>0</td>\n",
       "      <td>0</td>\n",
       "      <td>0</td>\n",
       "      <td>0</td>\n",
       "      <td>0</td>\n",
       "      <td>0</td>\n",
       "      <td>0</td>\n",
       "      <td>...</td>\n",
       "      <td>0</td>\n",
       "      <td>0</td>\n",
       "      <td>0</td>\n",
       "      <td>0</td>\n",
       "      <td>0</td>\n",
       "      <td>0</td>\n",
       "      <td>1</td>\n",
       "      <td>0</td>\n",
       "      <td>0</td>\n",
       "      <td>0</td>\n",
       "    </tr>\n",
       "    <tr>\n",
       "      <th>620</th>\n",
       "      <td>0</td>\n",
       "      <td>0</td>\n",
       "      <td>0</td>\n",
       "      <td>0</td>\n",
       "      <td>0</td>\n",
       "      <td>0</td>\n",
       "      <td>0</td>\n",
       "      <td>0</td>\n",
       "      <td>0</td>\n",
       "      <td>0</td>\n",
       "      <td>...</td>\n",
       "      <td>0</td>\n",
       "      <td>0</td>\n",
       "      <td>0</td>\n",
       "      <td>0</td>\n",
       "      <td>3</td>\n",
       "      <td>0</td>\n",
       "      <td>0</td>\n",
       "      <td>0</td>\n",
       "      <td>0</td>\n",
       "      <td>0</td>\n",
       "    </tr>\n",
       "  </tbody>\n",
       "</table>\n",
       "<p>10 rows × 135 columns</p>\n",
       "</div>"
      ],
      "text/plain": [
       "aisle    air fresheners candles  asian foods  baby accessories  \\\n",
       "user_id                                                          \n",
       "284                           0            9                 0   \n",
       "293                           0            1                 0   \n",
       "319                           0            0                 0   \n",
       "358                           0            0                 0   \n",
       "432                           0            2                 0   \n",
       "490                           0            0                 0   \n",
       "502                           0            0                 0   \n",
       "514                           0            0                 0   \n",
       "519                           0            0                 0   \n",
       "620                           0            0                 0   \n",
       "\n",
       "aisle    baby bath body care  baby food formula  bakery desserts  \\\n",
       "user_id                                                            \n",
       "284                        0                 34                2   \n",
       "293                        0                  0                0   \n",
       "319                        0                  0                0   \n",
       "358                        0                  0                0   \n",
       "432                        0                  0                0   \n",
       "490                        0                  0                0   \n",
       "502                        0                  0                0   \n",
       "514                        0                  0                0   \n",
       "519                        0                  0                0   \n",
       "620                        0                  0                0   \n",
       "\n",
       "aisle    baking ingredients  baking supplies decor  beauty  beers coolers  \\\n",
       "user_id                                                                     \n",
       "284                      10                      0       0              0   \n",
       "293                       1                      0       0              0   \n",
       "319                       2                      0       0              0   \n",
       "358                       0                      0       0              0   \n",
       "432                       1                      0       0              0   \n",
       "490                       2                      0       0              0   \n",
       "502                       1                      0       0              0   \n",
       "514                       0                      0       0              0   \n",
       "519                       0                      0       0              0   \n",
       "620                       0                      0       0              0   \n",
       "\n",
       "aisle    ...  tea  tofu meat alternatives  tortillas flat bread  \\\n",
       "user_id  ...                                                      \n",
       "284      ...    1                       8                     1   \n",
       "293      ...    3                       0                     4   \n",
       "319      ...    0                       0                     0   \n",
       "358      ...    0                       0                     0   \n",
       "432      ...   22                       0                     0   \n",
       "490      ...    0                       0                     0   \n",
       "502      ...    1                       0                     1   \n",
       "514      ...    3                       0                     0   \n",
       "519      ...    0                       0                     0   \n",
       "620      ...    0                       0                     0   \n",
       "\n",
       "aisle    trail mix snack mix  trash bags liners  vitamins supplements  \\\n",
       "user_id                                                                 \n",
       "284                        0                  0                     0   \n",
       "293                        0                  0                     2   \n",
       "319                        0                  0                     0   \n",
       "358                        0                  0                     0   \n",
       "432                        0                  0                     1   \n",
       "490                        0                  0                     0   \n",
       "502                        0                  0                     0   \n",
       "514                        0                  0                     0   \n",
       "519                        0                  0                     0   \n",
       "620                        0                  3                     0   \n",
       "\n",
       "aisle    water seltzer sparkling water  white wines  yogurt  cluster  \n",
       "user_id                                                               \n",
       "284                                  0            0      17        0  \n",
       "293                                  4            0       0        0  \n",
       "319                                  0            0       1        0  \n",
       "358                                  0            0       0        0  \n",
       "432                                 75            0       3        1  \n",
       "490                                  0            0       0        0  \n",
       "502                                  5            0      15        0  \n",
       "514                                  0            0       0        0  \n",
       "519                                  1            0       0        0  \n",
       "620                                  0            0       0        0  \n",
       "\n",
       "[10 rows x 135 columns]"
      ]
     },
     "execution_count": 42,
     "metadata": {},
     "output_type": "execute_result"
    }
   ],
   "source": [
    "clust_aisle = cust_aisle.copy()\n",
    "clust_aisle['cluster'] = c_preds\n",
    "# clust_aisle['user_id'] = clust_aisle.index\n",
    "#clust_aisle = clust_aisle.reset_index(drop=True)\n",
    "clust_aisle.head(10)"
   ]
  },
  {
   "cell_type": "code",
   "execution_count": 43,
   "metadata": {
    "_cell_guid": "0c9fdddb-2d74-4da9-a025-42b903f770e8",
    "_execution_state": "idle",
    "_uuid": "dcc0afffea962eb6ecbad8e3a3c0a19f944f8773",
    "scrolled": false
   },
   "outputs": [
    {
     "name": "stdout",
     "output_type": "stream",
     "text": [
      "(2500, 135)\n"
     ]
    },
    {
     "data": {
      "image/png": "[encoded data removed]",
      "text/plain": [
       "<Figure size 1080x1080 with 4 Axes>"
      ]
     },
     "metadata": {
      "needs_background": "light"
     },
     "output_type": "display_data"
    }
   ],
   "source": [
    "#Top Products for each cluster\n",
    "print (clust_aisle.shape)\n",
    "f,arr = plt.subplots(2,2,sharex=True,figsize=(15,15))\n",
    "\n",
    "c1_count = len(clust_aisle[clust_aisle['cluster']==0])\n",
    "\n",
    "c0 = clust_aisle[clust_aisle['cluster']==0].drop('cluster',axis=1).mean()\n",
    "arr[0,0].bar(range(len(clust_aisle.drop('cluster',axis=1).columns)),c0)\n",
    "c1 = clust_aisle[clust_aisle['cluster']==1].drop('cluster',axis=1).mean()\n",
    "arr[0,1].bar(range(len(clust_aisle.drop('cluster',axis=1).columns)),c1)\n",
    "c2 = clust_aisle[clust_aisle['cluster']==2].drop('cluster',axis=1).mean()\n",
    "arr[1,0].bar(range(len(clust_aisle.drop('cluster',axis=1).columns)),c2)\n",
    "c3 = clust_aisle[clust_aisle['cluster']==3].drop('cluster',axis=1).mean()\n",
    "arr[1,1].bar(range(len(clust_aisle.drop('cluster',axis=1).columns)),c3)\n",
    "plt.show()"
   ]
  },
  {
   "cell_type": "markdown",
   "metadata": {
    "_uuid": "520f877e4099529949cc21502c96a1013aba39b7"
   },
   "source": [
    "Finding out the top 5 aisles for each cluster"
   ]
  },
  {
   "cell_type": "code",
   "execution_count": 44,
   "metadata": {
    "_uuid": "4c3bf8e90af07c958a102158f67a0f336359f7e0"
   },
   "outputs": [
    {
     "data": {
      "text/html": [
       "<div>\n",
       "<style scoped>\n",
       "    .dataframe tbody tr th:only-of-type {\n",
       "        vertical-align: middle;\n",
       "    }\n",
       "\n",
       "    .dataframe tbody tr th {\n",
       "        vertical-align: top;\n",
       "    }\n",
       "\n",
       "    .dataframe thead th {\n",
       "        text-align: right;\n",
       "    }\n",
       "</style>\n",
       "<table border=\"1\" class=\"dataframe\">\n",
       "  <thead>\n",
       "    <tr style=\"text-align: right;\">\n",
       "      <th>aisle_n</th>\n",
       "      <th>aisle1</th>\n",
       "      <th>aisle2</th>\n",
       "      <th>aisle3</th>\n",
       "      <th>aisle4</th>\n",
       "      <th>aisle5</th>\n",
       "    </tr>\n",
       "    <tr>\n",
       "      <th>cluster</th>\n",
       "      <th></th>\n",
       "      <th></th>\n",
       "      <th></th>\n",
       "      <th></th>\n",
       "      <th></th>\n",
       "    </tr>\n",
       "  </thead>\n",
       "  <tbody>\n",
       "    <tr>\n",
       "      <th>0</th>\n",
       "      <td>fresh fruits</td>\n",
       "      <td>fresh vegetables</td>\n",
       "      <td>yogurt</td>\n",
       "      <td>packaged vegetables fruits</td>\n",
       "      <td>packaged cheese</td>\n",
       "    </tr>\n",
       "  </tbody>\n",
       "</table>\n",
       "</div>"
      ],
      "text/plain": [
       "aisle_n        aisle1            aisle2  aisle3                      aisle4  \\\n",
       "cluster                                                                       \n",
       "0        fresh fruits  fresh vegetables  yogurt  packaged vegetables fruits   \n",
       "\n",
       "aisle_n           aisle5  \n",
       "cluster                   \n",
       "0        packaged cheese  "
      ]
     },
     "execution_count": 44,
     "metadata": {},
     "output_type": "execute_result"
    }
   ],
   "source": [
    "#Cluster 0 \n",
    "cluster0_df = pd.DataFrame(c0)\n",
    "cluster0_df['aisle'] = cluster0_df.index\n",
    "cluster0_df = cluster0_df.reset_index(drop=True)\n",
    "cluster0_df['cluster'] = 0\n",
    "cluster0_df.columns = ['imp','aisle','cluster']\n",
    "cluster0_df = cluster0_df.sort_values('imp', ascending=False)\n",
    "cluster0_df  = cluster0_df[['cluster','aisle']]\n",
    "cluster0_df = cluster0_df.iloc[0:5]\n",
    "cluster0_df['aisle_n'] = ['aisle1','aisle2','aisle3','aisle4','aisle5']\n",
    "cluster0_df = cluster0_df.pivot(index='cluster', columns='aisle_n', values='aisle')\n",
    "#cluster0_df['cluster'] = cluster0_df.index\n",
    "#cluster0_df = cluster0_df.reset_index(drop=True)\n",
    "cluster0_df"
   ]
  },
  {
   "cell_type": "code",
   "execution_count": 45,
   "metadata": {
    "_uuid": "6769f444265a53eacaf6304988b3a56e5b51fc17"
   },
   "outputs": [
    {
     "data": {
      "text/html": [
       "<div>\n",
       "<style scoped>\n",
       "    .dataframe tbody tr th:only-of-type {\n",
       "        vertical-align: middle;\n",
       "    }\n",
       "\n",
       "    .dataframe tbody tr th {\n",
       "        vertical-align: top;\n",
       "    }\n",
       "\n",
       "    .dataframe thead th {\n",
       "        text-align: right;\n",
       "    }\n",
       "</style>\n",
       "<table border=\"1\" class=\"dataframe\">\n",
       "  <thead>\n",
       "    <tr style=\"text-align: right;\">\n",
       "      <th>aisle_n</th>\n",
       "      <th>aisle1</th>\n",
       "      <th>aisle2</th>\n",
       "      <th>aisle3</th>\n",
       "      <th>aisle4</th>\n",
       "      <th>aisle5</th>\n",
       "    </tr>\n",
       "    <tr>\n",
       "      <th>cluster</th>\n",
       "      <th></th>\n",
       "      <th></th>\n",
       "      <th></th>\n",
       "      <th></th>\n",
       "      <th></th>\n",
       "    </tr>\n",
       "  </thead>\n",
       "  <tbody>\n",
       "    <tr>\n",
       "      <th>1</th>\n",
       "      <td>fresh vegetables</td>\n",
       "      <td>fresh fruits</td>\n",
       "      <td>packaged vegetables fruits</td>\n",
       "      <td>packaged cheese</td>\n",
       "      <td>yogurt</td>\n",
       "    </tr>\n",
       "  </tbody>\n",
       "</table>\n",
       "</div>"
      ],
      "text/plain": [
       "aisle_n            aisle1        aisle2                      aisle3  \\\n",
       "cluster                                                               \n",
       "1        fresh vegetables  fresh fruits  packaged vegetables fruits   \n",
       "\n",
       "aisle_n           aisle4  aisle5  \n",
       "cluster                           \n",
       "1        packaged cheese  yogurt  "
      ]
     },
     "execution_count": 45,
     "metadata": {},
     "output_type": "execute_result"
    }
   ],
   "source": [
    "#Cluster 1 \n",
    "cluster1_df = pd.DataFrame(c1)\n",
    "cluster1_df['aisle'] = cluster1_df.index\n",
    "cluster1_df = cluster1_df.reset_index(drop=True)\n",
    "cluster1_df['cluster'] = 1\n",
    "cluster1_df.columns = ['imp','aisle','cluster']\n",
    "cluster1_df = cluster1_df.sort_values('imp', ascending=False)\n",
    "cluster1_df  = cluster1_df[['cluster','aisle']]\n",
    "cluster1_df = cluster1_df.iloc[0:5]\n",
    "cluster1_df['aisle_n'] = ['aisle1','aisle2','aisle3','aisle4','aisle5']\n",
    "cluster1_df = cluster1_df.pivot(index='cluster', columns='aisle_n', values='aisle')\n",
    "#cluster1_df['cluster'] = cluster1_df.index\n",
    "#cluster1_df = cluster1_df.reset_index(drop=True)\n",
    "cluster1_df"
   ]
  },
  {
   "cell_type": "code",
   "execution_count": 46,
   "metadata": {
    "_uuid": "df7c9f8e0d73cd37be44f3249445909e95090da6"
   },
   "outputs": [
    {
     "data": {
      "text/html": [
       "<div>\n",
       "<style scoped>\n",
       "    .dataframe tbody tr th:only-of-type {\n",
       "        vertical-align: middle;\n",
       "    }\n",
       "\n",
       "    .dataframe tbody tr th {\n",
       "        vertical-align: top;\n",
       "    }\n",
       "\n",
       "    .dataframe thead th {\n",
       "        text-align: right;\n",
       "    }\n",
       "</style>\n",
       "<table border=\"1\" class=\"dataframe\">\n",
       "  <thead>\n",
       "    <tr style=\"text-align: right;\">\n",
       "      <th>aisle_n</th>\n",
       "      <th>aisle1</th>\n",
       "      <th>aisle2</th>\n",
       "      <th>aisle3</th>\n",
       "      <th>aisle4</th>\n",
       "      <th>aisle5</th>\n",
       "    </tr>\n",
       "    <tr>\n",
       "      <th>cluster</th>\n",
       "      <th></th>\n",
       "      <th></th>\n",
       "      <th></th>\n",
       "      <th></th>\n",
       "      <th></th>\n",
       "    </tr>\n",
       "  </thead>\n",
       "  <tbody>\n",
       "    <tr>\n",
       "      <th>2</th>\n",
       "      <td>fresh vegetables</td>\n",
       "      <td>fresh fruits</td>\n",
       "      <td>packaged vegetables fruits</td>\n",
       "      <td>packaged cheese</td>\n",
       "      <td>soy lactosefree</td>\n",
       "    </tr>\n",
       "  </tbody>\n",
       "</table>\n",
       "</div>"
      ],
      "text/plain": [
       "aisle_n            aisle1        aisle2                      aisle3  \\\n",
       "cluster                                                               \n",
       "2        fresh vegetables  fresh fruits  packaged vegetables fruits   \n",
       "\n",
       "aisle_n           aisle4           aisle5  \n",
       "cluster                                    \n",
       "2        packaged cheese  soy lactosefree  "
      ]
     },
     "execution_count": 46,
     "metadata": {},
     "output_type": "execute_result"
    }
   ],
   "source": [
    "#Cluster 2 \n",
    "cluster2_df = pd.DataFrame(c2)\n",
    "cluster2_df['aisle'] = cluster2_df.index\n",
    "cluster2_df = cluster2_df.reset_index(drop=True)\n",
    "cluster2_df['cluster'] = 2\n",
    "cluster2_df.columns = ['imp','aisle','cluster']\n",
    "cluster2_df = cluster2_df.sort_values('imp', ascending=False)\n",
    "cluster2_df  = cluster2_df[['cluster','aisle']]\n",
    "cluster2_df = cluster2_df.iloc[0:5]\n",
    "cluster2_df['aisle_n'] = ['aisle1','aisle2','aisle3','aisle4','aisle5']\n",
    "cluster2_df = cluster2_df.pivot(index='cluster', columns='aisle_n', values='aisle')\n",
    "#cluster2_df['cluster'] = cluster2_df.index\n",
    "#cluster2_df = cluster2_df.reset_index(drop=True)\n",
    "cluster2_df"
   ]
  },
  {
   "cell_type": "code",
   "execution_count": 47,
   "metadata": {
    "_uuid": "4ad31c64bf2a0dec9054d3050cac493992198bfd"
   },
   "outputs": [
    {
     "data": {
      "text/html": [
       "<div>\n",
       "<style scoped>\n",
       "    .dataframe tbody tr th:only-of-type {\n",
       "        vertical-align: middle;\n",
       "    }\n",
       "\n",
       "    .dataframe tbody tr th {\n",
       "        vertical-align: top;\n",
       "    }\n",
       "\n",
       "    .dataframe thead th {\n",
       "        text-align: right;\n",
       "    }\n",
       "</style>\n",
       "<table border=\"1\" class=\"dataframe\">\n",
       "  <thead>\n",
       "    <tr style=\"text-align: right;\">\n",
       "      <th>aisle_n</th>\n",
       "      <th>aisle1</th>\n",
       "      <th>aisle2</th>\n",
       "      <th>aisle3</th>\n",
       "      <th>aisle4</th>\n",
       "      <th>aisle5</th>\n",
       "    </tr>\n",
       "    <tr>\n",
       "      <th>cluster</th>\n",
       "      <th></th>\n",
       "      <th></th>\n",
       "      <th></th>\n",
       "      <th></th>\n",
       "      <th></th>\n",
       "    </tr>\n",
       "  </thead>\n",
       "  <tbody>\n",
       "    <tr>\n",
       "      <th>3</th>\n",
       "      <td>yogurt</td>\n",
       "      <td>fresh fruits</td>\n",
       "      <td>refrigerated</td>\n",
       "      <td>fresh vegetables</td>\n",
       "      <td>packaged vegetables fruits</td>\n",
       "    </tr>\n",
       "  </tbody>\n",
       "</table>\n",
       "</div>"
      ],
      "text/plain": [
       "aisle_n  aisle1        aisle2        aisle3            aisle4  \\\n",
       "cluster                                                         \n",
       "3        yogurt  fresh fruits  refrigerated  fresh vegetables   \n",
       "\n",
       "aisle_n                      aisle5  \n",
       "cluster                              \n",
       "3        packaged vegetables fruits  "
      ]
     },
     "execution_count": 47,
     "metadata": {},
     "output_type": "execute_result"
    }
   ],
   "source": [
    "#Cluster 3 \n",
    "cluster3_df = pd.DataFrame(c3)\n",
    "cluster3_df['aisle'] = cluster3_df.index\n",
    "cluster3_df = cluster3_df.reset_index(drop=True)\n",
    "cluster3_df['cluster'] = 3\n",
    "cluster3_df.columns = ['imp','aisle','cluster']\n",
    "cluster3_df = cluster3_df.sort_values('imp', ascending=False)\n",
    "cluster3_df  = cluster3_df[['cluster','aisle']]\n",
    "cluster3_df = cluster3_df.iloc[0:5]\n",
    "cluster3_df['aisle_n'] = ['aisle1','aisle2','aisle3','aisle4','aisle5']\n",
    "cluster3_df = cluster3_df.pivot(index='cluster', columns='aisle_n', values='aisle')\n",
    "#cluster3_df['cluster'] = cluster3_df.index\n",
    "#cluster3_df = cluster3_df.reset_index(drop=True)\n",
    "cluster3_df"
   ]
  },
  {
   "cell_type": "code",
   "execution_count": 48,
   "metadata": {
    "_uuid": "a4229f2c2370ff06bf2e3d49aeee6771e53a0dff"
   },
   "outputs": [
    {
     "data": {
      "text/html": [
       "<div>\n",
       "<style scoped>\n",
       "    .dataframe tbody tr th:only-of-type {\n",
       "        vertical-align: middle;\n",
       "    }\n",
       "\n",
       "    .dataframe tbody tr th {\n",
       "        vertical-align: top;\n",
       "    }\n",
       "\n",
       "    .dataframe thead th {\n",
       "        text-align: right;\n",
       "    }\n",
       "</style>\n",
       "<table border=\"1\" class=\"dataframe\">\n",
       "  <thead>\n",
       "    <tr style=\"text-align: right;\">\n",
       "      <th>aisle_n</th>\n",
       "      <th>aisle1</th>\n",
       "      <th>aisle2</th>\n",
       "      <th>aisle3</th>\n",
       "      <th>aisle4</th>\n",
       "      <th>aisle5</th>\n",
       "      <th>cluster</th>\n",
       "    </tr>\n",
       "  </thead>\n",
       "  <tbody>\n",
       "    <tr>\n",
       "      <th>0</th>\n",
       "      <td>fresh fruits</td>\n",
       "      <td>fresh vegetables</td>\n",
       "      <td>yogurt</td>\n",
       "      <td>packaged vegetables fruits</td>\n",
       "      <td>packaged cheese</td>\n",
       "      <td>0</td>\n",
       "    </tr>\n",
       "    <tr>\n",
       "      <th>1</th>\n",
       "      <td>fresh vegetables</td>\n",
       "      <td>fresh fruits</td>\n",
       "      <td>packaged vegetables fruits</td>\n",
       "      <td>packaged cheese</td>\n",
       "      <td>yogurt</td>\n",
       "      <td>1</td>\n",
       "    </tr>\n",
       "    <tr>\n",
       "      <th>2</th>\n",
       "      <td>fresh vegetables</td>\n",
       "      <td>fresh fruits</td>\n",
       "      <td>packaged vegetables fruits</td>\n",
       "      <td>packaged cheese</td>\n",
       "      <td>soy lactosefree</td>\n",
       "      <td>2</td>\n",
       "    </tr>\n",
       "    <tr>\n",
       "      <th>3</th>\n",
       "      <td>yogurt</td>\n",
       "      <td>fresh fruits</td>\n",
       "      <td>refrigerated</td>\n",
       "      <td>fresh vegetables</td>\n",
       "      <td>packaged vegetables fruits</td>\n",
       "      <td>3</td>\n",
       "    </tr>\n",
       "  </tbody>\n",
       "</table>\n",
       "</div>"
      ],
      "text/plain": [
       "aisle_n            aisle1            aisle2                      aisle3  \\\n",
       "0            fresh fruits  fresh vegetables                      yogurt   \n",
       "1        fresh vegetables      fresh fruits  packaged vegetables fruits   \n",
       "2        fresh vegetables      fresh fruits  packaged vegetables fruits   \n",
       "3                  yogurt      fresh fruits                refrigerated   \n",
       "\n",
       "aisle_n                      aisle4                      aisle5  cluster  \n",
       "0        packaged vegetables fruits             packaged cheese        0  \n",
       "1                   packaged cheese                      yogurt        1  \n",
       "2                   packaged cheese             soy lactosefree        2  \n",
       "3                  fresh vegetables  packaged vegetables fruits        3  "
      ]
     },
     "execution_count": 48,
     "metadata": {},
     "output_type": "execute_result"
    }
   ],
   "source": [
    "cluster_df = pd.concat([cluster0_df,cluster1_df,cluster2_df,cluster3_df])\n",
    "cluster_df['cluster'] = cluster_df.index\n",
    "cluster_df = cluster_df.reset_index(drop=True)\n",
    "cluster_df"
   ]
  },
  {
   "cell_type": "code",
   "execution_count": 49,
   "metadata": {
    "_uuid": "b1c0997d6ee7ff1065ac33c065a83c4f5748688d"
   },
   "outputs": [
    {
     "data": {
      "text/html": [
       "<div>\n",
       "<style scoped>\n",
       "    .dataframe tbody tr th:only-of-type {\n",
       "        vertical-align: middle;\n",
       "    }\n",
       "\n",
       "    .dataframe tbody tr th {\n",
       "        vertical-align: top;\n",
       "    }\n",
       "\n",
       "    .dataframe thead th {\n",
       "        text-align: right;\n",
       "    }\n",
       "</style>\n",
       "<table border=\"1\" class=\"dataframe\">\n",
       "  <thead>\n",
       "    <tr style=\"text-align: right;\">\n",
       "      <th>aisle</th>\n",
       "      <th>air fresheners candles</th>\n",
       "      <th>asian foods</th>\n",
       "      <th>baby accessories</th>\n",
       "      <th>baby bath body care</th>\n",
       "      <th>baby food formula</th>\n",
       "      <th>bakery desserts</th>\n",
       "      <th>baking ingredients</th>\n",
       "      <th>baking supplies decor</th>\n",
       "      <th>beauty</th>\n",
       "      <th>beers coolers</th>\n",
       "      <th>...</th>\n",
       "      <th>tofu meat alternatives</th>\n",
       "      <th>tortillas flat bread</th>\n",
       "      <th>trail mix snack mix</th>\n",
       "      <th>trash bags liners</th>\n",
       "      <th>vitamins supplements</th>\n",
       "      <th>water seltzer sparkling water</th>\n",
       "      <th>white wines</th>\n",
       "      <th>yogurt</th>\n",
       "      <th>cluster</th>\n",
       "      <th>user_id</th>\n",
       "    </tr>\n",
       "  </thead>\n",
       "  <tbody>\n",
       "    <tr>\n",
       "      <th>0</th>\n",
       "      <td>0</td>\n",
       "      <td>9</td>\n",
       "      <td>0</td>\n",
       "      <td>0</td>\n",
       "      <td>34</td>\n",
       "      <td>2</td>\n",
       "      <td>10</td>\n",
       "      <td>0</td>\n",
       "      <td>0</td>\n",
       "      <td>0</td>\n",
       "      <td>...</td>\n",
       "      <td>8</td>\n",
       "      <td>1</td>\n",
       "      <td>0</td>\n",
       "      <td>0</td>\n",
       "      <td>0</td>\n",
       "      <td>0</td>\n",
       "      <td>0</td>\n",
       "      <td>17</td>\n",
       "      <td>0</td>\n",
       "      <td>284</td>\n",
       "    </tr>\n",
       "    <tr>\n",
       "      <th>1</th>\n",
       "      <td>0</td>\n",
       "      <td>1</td>\n",
       "      <td>0</td>\n",
       "      <td>0</td>\n",
       "      <td>0</td>\n",
       "      <td>0</td>\n",
       "      <td>1</td>\n",
       "      <td>0</td>\n",
       "      <td>0</td>\n",
       "      <td>0</td>\n",
       "      <td>...</td>\n",
       "      <td>0</td>\n",
       "      <td>4</td>\n",
       "      <td>0</td>\n",
       "      <td>0</td>\n",
       "      <td>2</td>\n",
       "      <td>4</td>\n",
       "      <td>0</td>\n",
       "      <td>0</td>\n",
       "      <td>0</td>\n",
       "      <td>293</td>\n",
       "    </tr>\n",
       "    <tr>\n",
       "      <th>2</th>\n",
       "      <td>0</td>\n",
       "      <td>0</td>\n",
       "      <td>0</td>\n",
       "      <td>0</td>\n",
       "      <td>0</td>\n",
       "      <td>0</td>\n",
       "      <td>2</td>\n",
       "      <td>0</td>\n",
       "      <td>0</td>\n",
       "      <td>0</td>\n",
       "      <td>...</td>\n",
       "      <td>0</td>\n",
       "      <td>0</td>\n",
       "      <td>0</td>\n",
       "      <td>0</td>\n",
       "      <td>0</td>\n",
       "      <td>0</td>\n",
       "      <td>0</td>\n",
       "      <td>1</td>\n",
       "      <td>0</td>\n",
       "      <td>319</td>\n",
       "    </tr>\n",
       "    <tr>\n",
       "      <th>3</th>\n",
       "      <td>0</td>\n",
       "      <td>0</td>\n",
       "      <td>0</td>\n",
       "      <td>0</td>\n",
       "      <td>0</td>\n",
       "      <td>0</td>\n",
       "      <td>0</td>\n",
       "      <td>0</td>\n",
       "      <td>0</td>\n",
       "      <td>0</td>\n",
       "      <td>...</td>\n",
       "      <td>0</td>\n",
       "      <td>0</td>\n",
       "      <td>0</td>\n",
       "      <td>0</td>\n",
       "      <td>0</td>\n",
       "      <td>0</td>\n",
       "      <td>0</td>\n",
       "      <td>0</td>\n",
       "      <td>0</td>\n",
       "      <td>358</td>\n",
       "    </tr>\n",
       "    <tr>\n",
       "      <th>4</th>\n",
       "      <td>0</td>\n",
       "      <td>2</td>\n",
       "      <td>0</td>\n",
       "      <td>0</td>\n",
       "      <td>0</td>\n",
       "      <td>0</td>\n",
       "      <td>1</td>\n",
       "      <td>0</td>\n",
       "      <td>0</td>\n",
       "      <td>0</td>\n",
       "      <td>...</td>\n",
       "      <td>0</td>\n",
       "      <td>0</td>\n",
       "      <td>0</td>\n",
       "      <td>0</td>\n",
       "      <td>1</td>\n",
       "      <td>75</td>\n",
       "      <td>0</td>\n",
       "      <td>3</td>\n",
       "      <td>1</td>\n",
       "      <td>432</td>\n",
       "    </tr>\n",
       "  </tbody>\n",
       "</table>\n",
       "<p>5 rows × 136 columns</p>\n",
       "</div>"
      ],
      "text/plain": [
       "aisle  air fresheners candles  asian foods  baby accessories  \\\n",
       "0                           0            9                 0   \n",
       "1                           0            1                 0   \n",
       "2                           0            0                 0   \n",
       "3                           0            0                 0   \n",
       "4                           0            2                 0   \n",
       "\n",
       "aisle  baby bath body care  baby food formula  bakery desserts  \\\n",
       "0                        0                 34                2   \n",
       "1                        0                  0                0   \n",
       "2                        0                  0                0   \n",
       "3                        0                  0                0   \n",
       "4                        0                  0                0   \n",
       "\n",
       "aisle  baking ingredients  baking supplies decor  beauty  beers coolers  ...  \\\n",
       "0                      10                      0       0              0  ...   \n",
       "1                       1                      0       0              0  ...   \n",
       "2                       2                      0       0              0  ...   \n",
       "3                       0                      0       0              0  ...   \n",
       "4                       1                      0       0              0  ...   \n",
       "\n",
       "aisle  tofu meat alternatives  tortillas flat bread  trail mix snack mix  \\\n",
       "0                           8                     1                    0   \n",
       "1                           0                     4                    0   \n",
       "2                           0                     0                    0   \n",
       "3                           0                     0                    0   \n",
       "4                           0                     0                    0   \n",
       "\n",
       "aisle  trash bags liners  vitamins supplements  water seltzer sparkling water  \\\n",
       "0                      0                     0                              0   \n",
       "1                      0                     2                              4   \n",
       "2                      0                     0                              0   \n",
       "3                      0                     0                              0   \n",
       "4                      0                     1                             75   \n",
       "\n",
       "aisle  white wines  yogurt  cluster  user_id  \n",
       "0                0      17        0      284  \n",
       "1                0       0        0      293  \n",
       "2                0       1        0      319  \n",
       "3                0       0        0      358  \n",
       "4                0       3        1      432  \n",
       "\n",
       "[5 rows x 136 columns]"
      ]
     },
     "execution_count": 49,
     "metadata": {},
     "output_type": "execute_result"
    }
   ],
   "source": [
    "clust_aisle['user_id'] = clust_aisle.index\n",
    "clust_aisle = clust_aisle.reset_index(drop=True)\n",
    "clust_aisle.head()"
   ]
  },
  {
   "cell_type": "code",
   "execution_count": 50,
   "metadata": {
    "_uuid": "2a1b1967c18ab8f5a1a15673e40e77be5b365dc3"
   },
   "outputs": [
    {
     "data": {
      "text/html": [
       "<div>\n",
       "<style scoped>\n",
       "    .dataframe tbody tr th:only-of-type {\n",
       "        vertical-align: middle;\n",
       "    }\n",
       "\n",
       "    .dataframe tbody tr th {\n",
       "        vertical-align: top;\n",
       "    }\n",
       "\n",
       "    .dataframe thead th {\n",
       "        text-align: right;\n",
       "    }\n",
       "</style>\n",
       "<table border=\"1\" class=\"dataframe\">\n",
       "  <thead>\n",
       "    <tr style=\"text-align: right;\">\n",
       "      <th></th>\n",
       "      <th>user_id</th>\n",
       "      <th>cluster</th>\n",
       "      <th>aisle1</th>\n",
       "      <th>aisle2</th>\n",
       "      <th>aisle3</th>\n",
       "      <th>aisle4</th>\n",
       "      <th>aisle5</th>\n",
       "    </tr>\n",
       "  </thead>\n",
       "  <tbody>\n",
       "    <tr>\n",
       "      <th>0</th>\n",
       "      <td>284</td>\n",
       "      <td>0</td>\n",
       "      <td>fresh fruits</td>\n",
       "      <td>fresh vegetables</td>\n",
       "      <td>yogurt</td>\n",
       "      <td>packaged vegetables fruits</td>\n",
       "      <td>packaged cheese</td>\n",
       "    </tr>\n",
       "    <tr>\n",
       "      <th>1</th>\n",
       "      <td>293</td>\n",
       "      <td>0</td>\n",
       "      <td>fresh fruits</td>\n",
       "      <td>fresh vegetables</td>\n",
       "      <td>yogurt</td>\n",
       "      <td>packaged vegetables fruits</td>\n",
       "      <td>packaged cheese</td>\n",
       "    </tr>\n",
       "    <tr>\n",
       "      <th>2</th>\n",
       "      <td>319</td>\n",
       "      <td>0</td>\n",
       "      <td>fresh fruits</td>\n",
       "      <td>fresh vegetables</td>\n",
       "      <td>yogurt</td>\n",
       "      <td>packaged vegetables fruits</td>\n",
       "      <td>packaged cheese</td>\n",
       "    </tr>\n",
       "    <tr>\n",
       "      <th>3</th>\n",
       "      <td>358</td>\n",
       "      <td>0</td>\n",
       "      <td>fresh fruits</td>\n",
       "      <td>fresh vegetables</td>\n",
       "      <td>yogurt</td>\n",
       "      <td>packaged vegetables fruits</td>\n",
       "      <td>packaged cheese</td>\n",
       "    </tr>\n",
       "    <tr>\n",
       "      <th>4</th>\n",
       "      <td>432</td>\n",
       "      <td>1</td>\n",
       "      <td>fresh vegetables</td>\n",
       "      <td>fresh fruits</td>\n",
       "      <td>packaged vegetables fruits</td>\n",
       "      <td>packaged cheese</td>\n",
       "      <td>yogurt</td>\n",
       "    </tr>\n",
       "  </tbody>\n",
       "</table>\n",
       "</div>"
      ],
      "text/plain": [
       "   user_id  cluster            aisle1            aisle2  \\\n",
       "0      284        0      fresh fruits  fresh vegetables   \n",
       "1      293        0      fresh fruits  fresh vegetables   \n",
       "2      319        0      fresh fruits  fresh vegetables   \n",
       "3      358        0      fresh fruits  fresh vegetables   \n",
       "4      432        1  fresh vegetables      fresh fruits   \n",
       "\n",
       "                       aisle3                      aisle4           aisle5  \n",
       "0                      yogurt  packaged vegetables fruits  packaged cheese  \n",
       "1                      yogurt  packaged vegetables fruits  packaged cheese  \n",
       "2                      yogurt  packaged vegetables fruits  packaged cheese  \n",
       "3                      yogurt  packaged vegetables fruits  packaged cheese  \n",
       "4  packaged vegetables fruits             packaged cheese           yogurt  "
      ]
     },
     "execution_count": 50,
     "metadata": {},
     "output_type": "execute_result"
    }
   ],
   "source": [
    "user_cluster = clust_aisle.join(cluster_df, on='cluster', rsuffix='_')\n",
    "user_cluster = user_cluster[['user_id','cluster','aisle1','aisle2','aisle3','aisle4','aisle5']]\n",
    "user_cluster.head()"
   ]
  },
  {
   "cell_type": "code",
   "execution_count": 51,
   "metadata": {
    "_uuid": "4081d126d793a310ea99b2cf8d51f5b5bc4e3c41"
   },
   "outputs": [
    {
     "data": {
      "text/html": [
       "<div>\n",
       "<style scoped>\n",
       "    .dataframe tbody tr th:only-of-type {\n",
       "        vertical-align: middle;\n",
       "    }\n",
       "\n",
       "    .dataframe tbody tr th {\n",
       "        vertical-align: top;\n",
       "    }\n",
       "\n",
       "    .dataframe thead th {\n",
       "        text-align: right;\n",
       "    }\n",
       "</style>\n",
       "<table border=\"1\" class=\"dataframe\">\n",
       "  <thead>\n",
       "    <tr style=\"text-align: right;\">\n",
       "      <th></th>\n",
       "      <th>user_id</th>\n",
       "      <th>cluster</th>\n",
       "      <th>aisle1</th>\n",
       "      <th>product1</th>\n",
       "      <th>aisle2</th>\n",
       "      <th>product2</th>\n",
       "      <th>aisle3</th>\n",
       "      <th>product3</th>\n",
       "      <th>aisle4</th>\n",
       "      <th>product4</th>\n",
       "      <th>aisle5</th>\n",
       "      <th>product5</th>\n",
       "    </tr>\n",
       "  </thead>\n",
       "  <tbody>\n",
       "    <tr>\n",
       "      <th>0</th>\n",
       "      <td>284</td>\n",
       "      <td>0</td>\n",
       "      <td>fresh fruits</td>\n",
       "      <td>Banana</td>\n",
       "      <td>fresh vegetables</td>\n",
       "      <td>Organic Yellow Onion</td>\n",
       "      <td>yogurt</td>\n",
       "      <td>Total 2% with Strawberry Lowfat Greek Strained...</td>\n",
       "      <td>packaged vegetables fruits</td>\n",
       "      <td>Organic Baby Spinach</td>\n",
       "      <td>packaged cheese</td>\n",
       "      <td>Organic Whole String Cheese</td>\n",
       "    </tr>\n",
       "    <tr>\n",
       "      <th>1</th>\n",
       "      <td>293</td>\n",
       "      <td>0</td>\n",
       "      <td>fresh fruits</td>\n",
       "      <td>Banana</td>\n",
       "      <td>fresh vegetables</td>\n",
       "      <td>Organic Yellow Onion</td>\n",
       "      <td>yogurt</td>\n",
       "      <td>Total 2% with Strawberry Lowfat Greek Strained...</td>\n",
       "      <td>packaged vegetables fruits</td>\n",
       "      <td>Organic Baby Spinach</td>\n",
       "      <td>packaged cheese</td>\n",
       "      <td>Organic Whole String Cheese</td>\n",
       "    </tr>\n",
       "    <tr>\n",
       "      <th>2</th>\n",
       "      <td>319</td>\n",
       "      <td>0</td>\n",
       "      <td>fresh fruits</td>\n",
       "      <td>Banana</td>\n",
       "      <td>fresh vegetables</td>\n",
       "      <td>Organic Yellow Onion</td>\n",
       "      <td>yogurt</td>\n",
       "      <td>Total 2% with Strawberry Lowfat Greek Strained...</td>\n",
       "      <td>packaged vegetables fruits</td>\n",
       "      <td>Organic Baby Spinach</td>\n",
       "      <td>packaged cheese</td>\n",
       "      <td>Organic Whole String Cheese</td>\n",
       "    </tr>\n",
       "    <tr>\n",
       "      <th>3</th>\n",
       "      <td>358</td>\n",
       "      <td>0</td>\n",
       "      <td>fresh fruits</td>\n",
       "      <td>Banana</td>\n",
       "      <td>fresh vegetables</td>\n",
       "      <td>Organic Yellow Onion</td>\n",
       "      <td>yogurt</td>\n",
       "      <td>Total 2% with Strawberry Lowfat Greek Strained...</td>\n",
       "      <td>packaged vegetables fruits</td>\n",
       "      <td>Organic Baby Spinach</td>\n",
       "      <td>packaged cheese</td>\n",
       "      <td>Organic Whole String Cheese</td>\n",
       "    </tr>\n",
       "    <tr>\n",
       "      <th>4</th>\n",
       "      <td>432</td>\n",
       "      <td>1</td>\n",
       "      <td>fresh vegetables</td>\n",
       "      <td>Organic Yellow Onion</td>\n",
       "      <td>fresh fruits</td>\n",
       "      <td>Banana</td>\n",
       "      <td>packaged vegetables fruits</td>\n",
       "      <td>Organic Baby Spinach</td>\n",
       "      <td>packaged cheese</td>\n",
       "      <td>Organic Whole String Cheese</td>\n",
       "      <td>yogurt</td>\n",
       "      <td>Total 2% with Strawberry Lowfat Greek Strained...</td>\n",
       "    </tr>\n",
       "    <tr>\n",
       "      <th>...</th>\n",
       "      <td>...</td>\n",
       "      <td>...</td>\n",
       "      <td>...</td>\n",
       "      <td>...</td>\n",
       "      <td>...</td>\n",
       "      <td>...</td>\n",
       "      <td>...</td>\n",
       "      <td>...</td>\n",
       "      <td>...</td>\n",
       "      <td>...</td>\n",
       "      <td>...</td>\n",
       "      <td>...</td>\n",
       "    </tr>\n",
       "    <tr>\n",
       "      <th>2495</th>\n",
       "      <td>205352</td>\n",
       "      <td>0</td>\n",
       "      <td>fresh fruits</td>\n",
       "      <td>Banana</td>\n",
       "      <td>fresh vegetables</td>\n",
       "      <td>Organic Yellow Onion</td>\n",
       "      <td>yogurt</td>\n",
       "      <td>Total 2% with Strawberry Lowfat Greek Strained...</td>\n",
       "      <td>packaged vegetables fruits</td>\n",
       "      <td>Organic Baby Spinach</td>\n",
       "      <td>packaged cheese</td>\n",
       "      <td>Organic Whole String Cheese</td>\n",
       "    </tr>\n",
       "    <tr>\n",
       "      <th>2496</th>\n",
       "      <td>205381</td>\n",
       "      <td>0</td>\n",
       "      <td>fresh fruits</td>\n",
       "      <td>Banana</td>\n",
       "      <td>fresh vegetables</td>\n",
       "      <td>Organic Yellow Onion</td>\n",
       "      <td>yogurt</td>\n",
       "      <td>Total 2% with Strawberry Lowfat Greek Strained...</td>\n",
       "      <td>packaged vegetables fruits</td>\n",
       "      <td>Organic Baby Spinach</td>\n",
       "      <td>packaged cheese</td>\n",
       "      <td>Organic Whole String Cheese</td>\n",
       "    </tr>\n",
       "    <tr>\n",
       "      <th>2497</th>\n",
       "      <td>205551</td>\n",
       "      <td>0</td>\n",
       "      <td>fresh fruits</td>\n",
       "      <td>Banana</td>\n",
       "      <td>fresh vegetables</td>\n",
       "      <td>Organic Yellow Onion</td>\n",
       "      <td>yogurt</td>\n",
       "      <td>Total 2% with Strawberry Lowfat Greek Strained...</td>\n",
       "      <td>packaged vegetables fruits</td>\n",
       "      <td>Organic Baby Spinach</td>\n",
       "      <td>packaged cheese</td>\n",
       "      <td>Organic Whole String Cheese</td>\n",
       "    </tr>\n",
       "    <tr>\n",
       "      <th>2498</th>\n",
       "      <td>205679</td>\n",
       "      <td>0</td>\n",
       "      <td>fresh fruits</td>\n",
       "      <td>Banana</td>\n",
       "      <td>fresh vegetables</td>\n",
       "      <td>Organic Yellow Onion</td>\n",
       "      <td>yogurt</td>\n",
       "      <td>Total 2% with Strawberry Lowfat Greek Strained...</td>\n",
       "      <td>packaged vegetables fruits</td>\n",
       "      <td>Organic Baby Spinach</td>\n",
       "      <td>packaged cheese</td>\n",
       "      <td>Organic Whole String Cheese</td>\n",
       "    </tr>\n",
       "    <tr>\n",
       "      <th>2499</th>\n",
       "      <td>205952</td>\n",
       "      <td>0</td>\n",
       "      <td>fresh fruits</td>\n",
       "      <td>Banana</td>\n",
       "      <td>fresh vegetables</td>\n",
       "      <td>Organic Yellow Onion</td>\n",
       "      <td>yogurt</td>\n",
       "      <td>Total 2% with Strawberry Lowfat Greek Strained...</td>\n",
       "      <td>packaged vegetables fruits</td>\n",
       "      <td>Organic Baby Spinach</td>\n",
       "      <td>packaged cheese</td>\n",
       "      <td>Organic Whole String Cheese</td>\n",
       "    </tr>\n",
       "  </tbody>\n",
       "</table>\n",
       "<p>2500 rows × 12 columns</p>\n",
       "</div>"
      ],
      "text/plain": [
       "      user_id  cluster            aisle1              product1  \\\n",
       "0         284        0      fresh fruits                Banana   \n",
       "1         293        0      fresh fruits                Banana   \n",
       "2         319        0      fresh fruits                Banana   \n",
       "3         358        0      fresh fruits                Banana   \n",
       "4         432        1  fresh vegetables  Organic Yellow Onion   \n",
       "...       ...      ...               ...                   ...   \n",
       "2495   205352        0      fresh fruits                Banana   \n",
       "2496   205381        0      fresh fruits                Banana   \n",
       "2497   205551        0      fresh fruits                Banana   \n",
       "2498   205679        0      fresh fruits                Banana   \n",
       "2499   205952        0      fresh fruits                Banana   \n",
       "\n",
       "                aisle2              product2                      aisle3  \\\n",
       "0     fresh vegetables  Organic Yellow Onion                      yogurt   \n",
       "1     fresh vegetables  Organic Yellow Onion                      yogurt   \n",
       "2     fresh vegetables  Organic Yellow Onion                      yogurt   \n",
       "3     fresh vegetables  Organic Yellow Onion                      yogurt   \n",
       "4         fresh fruits                Banana  packaged vegetables fruits   \n",
       "...                ...                   ...                         ...   \n",
       "2495  fresh vegetables  Organic Yellow Onion                      yogurt   \n",
       "2496  fresh vegetables  Organic Yellow Onion                      yogurt   \n",
       "2497  fresh vegetables  Organic Yellow Onion                      yogurt   \n",
       "2498  fresh vegetables  Organic Yellow Onion                      yogurt   \n",
       "2499  fresh vegetables  Organic Yellow Onion                      yogurt   \n",
       "\n",
       "                                               product3  \\\n",
       "0     Total 2% with Strawberry Lowfat Greek Strained...   \n",
       "1     Total 2% with Strawberry Lowfat Greek Strained...   \n",
       "2     Total 2% with Strawberry Lowfat Greek Strained...   \n",
       "3     Total 2% with Strawberry Lowfat Greek Strained...   \n",
       "4                                  Organic Baby Spinach   \n",
       "...                                                 ...   \n",
       "2495  Total 2% with Strawberry Lowfat Greek Strained...   \n",
       "2496  Total 2% with Strawberry Lowfat Greek Strained...   \n",
       "2497  Total 2% with Strawberry Lowfat Greek Strained...   \n",
       "2498  Total 2% with Strawberry Lowfat Greek Strained...   \n",
       "2499  Total 2% with Strawberry Lowfat Greek Strained...   \n",
       "\n",
       "                          aisle4                     product4  \\\n",
       "0     packaged vegetables fruits         Organic Baby Spinach   \n",
       "1     packaged vegetables fruits         Organic Baby Spinach   \n",
       "2     packaged vegetables fruits         Organic Baby Spinach   \n",
       "3     packaged vegetables fruits         Organic Baby Spinach   \n",
       "4                packaged cheese  Organic Whole String Cheese   \n",
       "...                          ...                          ...   \n",
       "2495  packaged vegetables fruits         Organic Baby Spinach   \n",
       "2496  packaged vegetables fruits         Organic Baby Spinach   \n",
       "2497  packaged vegetables fruits         Organic Baby Spinach   \n",
       "2498  packaged vegetables fruits         Organic Baby Spinach   \n",
       "2499  packaged vegetables fruits         Organic Baby Spinach   \n",
       "\n",
       "               aisle5                                           product5  \n",
       "0     packaged cheese                        Organic Whole String Cheese  \n",
       "1     packaged cheese                        Organic Whole String Cheese  \n",
       "2     packaged cheese                        Organic Whole String Cheese  \n",
       "3     packaged cheese                        Organic Whole String Cheese  \n",
       "4              yogurt  Total 2% with Strawberry Lowfat Greek Strained...  \n",
       "...               ...                                                ...  \n",
       "2495  packaged cheese                        Organic Whole String Cheese  \n",
       "2496  packaged cheese                        Organic Whole String Cheese  \n",
       "2497  packaged cheese                        Organic Whole String Cheese  \n",
       "2498  packaged cheese                        Organic Whole String Cheese  \n",
       "2499  packaged cheese                        Organic Whole String Cheese  \n",
       "\n",
       "[2500 rows x 12 columns]"
      ]
     },
     "execution_count": 51,
     "metadata": {},
     "output_type": "execute_result"
    }
   ],
   "source": [
    "user_cluster_prod = user_cluster.merge(top_prod_aisle, left_on='aisle1', right_on='aisle', how='left').merge(top_prod_aisle, left_on='aisle2', right_on='aisle', how='left').merge(top_prod_aisle, left_on='aisle3', right_on='aisle', how='left').merge(top_prod_aisle, left_on='aisle4', right_on='aisle', how='left').merge(top_prod_aisle, left_on='aisle5', right_on='aisle', how='left')\n",
    "user_cluster_prod = user_cluster_prod.iloc[:,[0,1,2,8,3,10,4,12,5,14,6,16]]\n",
    "user_cluster_prod.columns = ['user_id', 'cluster', 'aisle1', 'product1', 'aisle2',\n",
    "       'product2', 'aisle3', 'product3', 'aisle4',\n",
    "       'product4', 'aisle5', 'product5']\n",
    "user_cluster_prod"
   ]
  },
  {
   "cell_type": "code",
   "execution_count": 52,
   "metadata": {
    "_uuid": "c66f4b8cc18d6953f33b5d63847faeb14e129c27"
   },
   "outputs": [],
   "source": [
    "user_cluster_prod.to_csv('user_top5_aisle_product.csv')"
   ]
  },
  {
   "cell_type": "markdown",
   "metadata": {
    "_cell_guid": "2b01383b-c50a-4d7a-9b26-fc56096e50c8",
    "_uuid": "80eabe05a2e84746be60b59367ce60c702c3cb61"
   },
   "source": [
    "Let's check out what are the top 10 goods bought by people of each cluster. We are going to rely first on the absolute data and then on a percentage among the top 8 products for each cluster."
   ]
  },
  {
   "cell_type": "code",
   "execution_count": 53,
   "metadata": {
    "_cell_guid": "fe829fd7-59b2-4356-ae8e-241f45626dda",
    "_execution_state": "idle",
    "_uuid": "2e71424ff03ef18ea9827401ba10e71705529981"
   },
   "outputs": [
    {
     "data": {
      "text/plain": [
       "aisle\n",
       "fresh fruits                     9.943003\n",
       "fresh vegetables                 7.956743\n",
       "yogurt                           5.709924\n",
       "packaged vegetables fruits       4.931298\n",
       "packaged cheese                  3.112977\n",
       "milk                             2.988804\n",
       "water seltzer sparkling water    2.893639\n",
       "chips pretzels                   2.362850\n",
       "soy lactosefree                  2.132824\n",
       "refrigerated                     2.090076\n",
       "dtype: float64"
      ]
     },
     "execution_count": 53,
     "metadata": {},
     "output_type": "execute_result"
    }
   ],
   "source": [
    "c0.sort_values(ascending=False)[0:10]"
   ]
  },
  {
   "cell_type": "code",
   "execution_count": 54,
   "metadata": {
    "_cell_guid": "534842f7-65ea-4f57-9b1d-0cd25248bb65",
    "_execution_state": "idle",
    "_uuid": "7f6c163e534f1fadad36eb4fc2e73fe97c017f50"
   },
   "outputs": [
    {
     "data": {
      "text/plain": [
       "aisle\n",
       "fresh vegetables              44.742188\n",
       "fresh fruits                  42.104167\n",
       "packaged vegetables fruits    18.596354\n",
       "packaged cheese                9.531250\n",
       "yogurt                         9.177083\n",
       "milk                           8.179688\n",
       "soy lactosefree                7.164062\n",
       "bread                          6.830729\n",
       "frozen produce                 6.302083\n",
       "chips pretzels                 5.971354\n",
       "dtype: float64"
      ]
     },
     "execution_count": 54,
     "metadata": {},
     "output_type": "execute_result"
    }
   ],
   "source": [
    "c1.sort_values(ascending=False)[0:10]"
   ]
  },
  {
   "cell_type": "code",
   "execution_count": 55,
   "metadata": {
    "_cell_guid": "0932bdc7-55be-43a3-b35c-f45bea00c829",
    "_execution_state": "idle",
    "_uuid": "348dbe14caa7e3a584b5ddc254642ca49199b61f"
   },
   "outputs": [
    {
     "data": {
      "text/plain": [
       "aisle\n",
       "fresh vegetables                 134.246377\n",
       "fresh fruits                      95.898551\n",
       "packaged vegetables fruits        57.072464\n",
       "packaged cheese                   21.347826\n",
       "soy lactosefree                   19.420290\n",
       "baby food formula                 16.623188\n",
       "water seltzer sparkling water     15.333333\n",
       "yogurt                            14.898551\n",
       "bread                             14.000000\n",
       "refrigerated                      13.898551\n",
       "dtype: float64"
      ]
     },
     "execution_count": 55,
     "metadata": {},
     "output_type": "execute_result"
    }
   ],
   "source": [
    "c2.sort_values(ascending=False)[0:10]"
   ]
  },
  {
   "cell_type": "code",
   "execution_count": 56,
   "metadata": {
    "_cell_guid": "37d219c8-b92b-471e-ad9a-683bc05e22ed",
    "_execution_state": "idle",
    "_uuid": "4a3edf51f146a7262f0eeeef8db3f4edf3e227fc"
   },
   "outputs": [
    {
     "data": {
      "text/plain": [
       "aisle\n",
       "yogurt                           52.573171\n",
       "fresh fruits                     37.878049\n",
       "refrigerated                     18.292683\n",
       "fresh vegetables                 16.756098\n",
       "packaged vegetables fruits       16.621951\n",
       "milk                             15.146341\n",
       "water seltzer sparkling water    14.024390\n",
       "packaged cheese                  11.890244\n",
       "energy granola bars              11.719512\n",
       "crackers                          7.195122\n",
       "dtype: float64"
      ]
     },
     "execution_count": 56,
     "metadata": {},
     "output_type": "execute_result"
    }
   ],
   "source": [
    "c3.sort_values(ascending=False)[0:10]"
   ]
  },
  {
   "cell_type": "markdown",
   "metadata": {
    "_cell_guid": "4850cf4d-a9de-4ceb-8806-79717b105261",
    "_uuid": "3577206029ef1e832f55a6720f6b31f612ed7e37"
   },
   "source": [
    "### Inference\n",
    "\n",
    "* fresh fruits                     \n",
    "* fresh vegetables                 \n",
    "* packaged vegetables fruits       \n",
    "* yogurt                           \n",
    "* packaged cheese                   \n",
    "* milk                              \n",
    "* water seltzer sparkling water     \n",
    "* chips pretzels                    \n",
    "\n",
    "are products which are genereically bought by the majority of the customers.\n",
    "\n",
    "What we can inspect here is if clusters differ in quantities and proportions, with respect of these goods, or if a cluster is characterized by some goods not included in this list. For instance we can already see cluster 3 is characterized by 'Baby Food Formula' product which is a significant difference with respect to the other clusters and cluster 4 is characterized by 'energy granola bars'"
   ]
  },
  {
   "cell_type": "code",
   "execution_count": 57,
   "metadata": {
    "_cell_guid": "16a86bf0-44f9-423f-a0d5-191c40f22a23",
    "_execution_state": "idle",
    "_uuid": "737822117c2dd38280a64a9e1410228d7999a223"
   },
   "outputs": [
    {
     "data": {
      "text/html": [
       "<table border=\"1\" class=\"dataframe\">\n",
       "  <thead>\n",
       "    <tr style=\"text-align: right;\">\n",
       "      <th></th>\n",
       "      <th>fresh fruits</th>\n",
       "      <th>fresh vegetables</th>\n",
       "      <th>packaged vegetables fruits</th>\n",
       "      <th>yogurt</th>\n",
       "      <th>packaged cheese</th>\n",
       "      <th>milk</th>\n",
       "      <th>water seltzer sparkling water</th>\n",
       "      <th>chips pretzels</th>\n",
       "    </tr>\n",
       "  </thead>\n",
       "  <tbody>\n",
       "    <tr>\n",
       "      <th>0</th>\n",
       "      <td>9.943003</td>\n",
       "      <td>7.956743</td>\n",
       "      <td>4.931298</td>\n",
       "      <td>5.709924</td>\n",
       "      <td>3.112977</td>\n",
       "      <td>2.988804</td>\n",
       "      <td>2.893639</td>\n",
       "      <td>2.362850</td>\n",
       "    </tr>\n",
       "    <tr>\n",
       "      <th>1</th>\n",
       "      <td>42.104167</td>\n",
       "      <td>44.742188</td>\n",
       "      <td>18.596354</td>\n",
       "      <td>9.177083</td>\n",
       "      <td>9.531250</td>\n",
       "      <td>8.179688</td>\n",
       "      <td>5.919271</td>\n",
       "      <td>5.971354</td>\n",
       "    </tr>\n",
       "    <tr>\n",
       "      <th>2</th>\n",
       "      <td>95.898551</td>\n",
       "      <td>134.246377</td>\n",
       "      <td>57.072464</td>\n",
       "      <td>14.898551</td>\n",
       "      <td>21.347826</td>\n",
       "      <td>13.347826</td>\n",
       "      <td>15.333333</td>\n",
       "      <td>10.420290</td>\n",
       "    </tr>\n",
       "    <tr>\n",
       "      <th>3</th>\n",
       "      <td>37.878049</td>\n",
       "      <td>16.756098</td>\n",
       "      <td>16.621951</td>\n",
       "      <td>52.573171</td>\n",
       "      <td>11.890244</td>\n",
       "      <td>15.146341</td>\n",
       "      <td>14.024390</td>\n",
       "      <td>6.768293</td>\n",
       "    </tr>\n",
       "  </tbody>\n",
       "</table>"
      ],
      "text/plain": [
       "<IPython.core.display.HTML object>"
      ]
     },
     "execution_count": 57,
     "metadata": {},
     "output_type": "execute_result"
    }
   ],
   "source": [
    "from IPython.display import display, HTML\n",
    "cluster_means = [[c0['fresh fruits'],c0['fresh vegetables'],c0['packaged vegetables fruits'], c0['yogurt'], c0['packaged cheese'], c0['milk'],c0['water seltzer sparkling water'],c0['chips pretzels']],\n",
    "                 [c1['fresh fruits'],c1['fresh vegetables'],c1['packaged vegetables fruits'], c1['yogurt'], c1['packaged cheese'], c1['milk'],c1['water seltzer sparkling water'],c1['chips pretzels']],\n",
    "                 [c2['fresh fruits'],c2['fresh vegetables'],c2['packaged vegetables fruits'], c2['yogurt'], c2['packaged cheese'], c2['milk'],c2['water seltzer sparkling water'],c2['chips pretzels']],\n",
    "                 [c3['fresh fruits'],c3['fresh vegetables'],c3['packaged vegetables fruits'], c3['yogurt'], c3['packaged cheese'], c3['milk'],c3['water seltzer sparkling water'],c3['chips pretzels']]]\n",
    "cluster_means = pd.DataFrame(cluster_means, columns = ['fresh fruits','fresh vegetables','packaged vegetables fruits','yogurt','packaged cheese','milk','water seltzer sparkling water','chips pretzels'])\n",
    "HTML(cluster_means.to_html())"
   ]
  },
  {
   "cell_type": "markdown",
   "metadata": {
    "_cell_guid": "b049ff00-5910-4c65-8fcb-ae525954f74c",
    "_uuid": "f39e35ef82ebbdae029cb3deb7e38b4eb096f72f"
   },
   "source": [
    "The following table depicts the percentage these goods with respect to the other top 8 in each cluster. It is easy some interesting differences among the clusters. \n",
    "\n",
    "It seems people of cluster 1 buy more fresh vegetables than the other clusters. As shown by absolute data, Cluster 2 is also the cluster including those customers buying far more goods than any others.\n",
    "\n",
    "People of cluster 3 buy more yogurt than people of the other clusters.\n",
    "\n",
    "Absolute Data shows us People of cluster 3 buy a Lot of 'Baby Food Formula' which not even listed in the top 8 products but mainly characterize this cluster. Coherently (I think) with this observation they buy more milk than the others."
   ]
  },
  {
   "cell_type": "code",
   "execution_count": 58,
   "metadata": {
    "_cell_guid": "56ddffcc-0053-46ce-9624-965236d83a3c",
    "_execution_state": "idle",
    "_uuid": "e44f6ae7735dabbbdac46091daee1c6fc2fcbc6a"
   },
   "outputs": [
    {
     "data": {
      "text/html": [
       "<table border=\"1\" class=\"dataframe\">\n",
       "  <thead>\n",
       "    <tr style=\"text-align: right;\">\n",
       "      <th></th>\n",
       "      <th>fresh fruits</th>\n",
       "      <th>fresh vegetables</th>\n",
       "      <th>packaged vegetables fruits</th>\n",
       "      <th>yogurt</th>\n",
       "      <th>packaged cheese</th>\n",
       "      <th>milk</th>\n",
       "      <th>water seltzer sparkling water</th>\n",
       "      <th>chips pretzels</th>\n",
       "    </tr>\n",
       "  </thead>\n",
       "  <tbody>\n",
       "    <tr>\n",
       "      <th>0</th>\n",
       "      <td>24.920283</td>\n",
       "      <td>19.942093</td>\n",
       "      <td>12.359379</td>\n",
       "      <td>14.310859</td>\n",
       "      <td>7.802097</td>\n",
       "      <td>7.490880</td>\n",
       "      <td>7.252366</td>\n",
       "      <td>5.922043</td>\n",
       "    </tr>\n",
       "    <tr>\n",
       "      <th>1</th>\n",
       "      <td>29.194128</td>\n",
       "      <td>31.023275</td>\n",
       "      <td>12.894314</td>\n",
       "      <td>6.363193</td>\n",
       "      <td>6.608765</td>\n",
       "      <td>5.671620</td>\n",
       "      <td>4.104296</td>\n",
       "      <td>4.140409</td>\n",
       "    </tr>\n",
       "    <tr>\n",
       "      <th>2</th>\n",
       "      <td>26.450014</td>\n",
       "      <td>37.026822</td>\n",
       "      <td>15.741296</td>\n",
       "      <td>4.109206</td>\n",
       "      <td>5.887996</td>\n",
       "      <td>3.681497</td>\n",
       "      <td>4.229124</td>\n",
       "      <td>2.874046</td>\n",
       "    </tr>\n",
       "    <tr>\n",
       "      <th>3</th>\n",
       "      <td>22.065928</td>\n",
       "      <td>9.761296</td>\n",
       "      <td>9.683149</td>\n",
       "      <td>30.626598</td>\n",
       "      <td>6.926684</td>\n",
       "      <td>8.823529</td>\n",
       "      <td>8.169935</td>\n",
       "      <td>3.942882</td>\n",
       "    </tr>\n",
       "  </tbody>\n",
       "</table>"
      ],
      "text/plain": [
       "<IPython.core.display.HTML object>"
      ]
     },
     "execution_count": 58,
     "metadata": {},
     "output_type": "execute_result"
    }
   ],
   "source": [
    "cluster_perc = cluster_means.iloc[:, :].apply(lambda x: (x / x.sum())*100,axis=1)\n",
    "HTML(cluster_perc.to_html())"
   ]
  },
  {
   "cell_type": "markdown",
   "metadata": {
    "_cell_guid": "efc90bd6-3a76-44d2-ac96-933d6503d0e4",
    "_uuid": "fa042f6ff86fdab35a3279f688a0bc3cc1a4aae1"
   },
   "source": [
    "Checking 10th to 15th most bought products for each cluster which will not include the generic products (i.e. vegetables, fruits, water, etc.) bought by anyone."
   ]
  },
  {
   "cell_type": "code",
   "execution_count": 59,
   "metadata": {
    "_cell_guid": "a2323aa8-7297-4061-8cd4-10ca2ceaf6f0",
    "_execution_state": "idle",
    "_uuid": "5e378a270d857f1f141570ca40f977e1c2ffd3d2"
   },
   "outputs": [
    {
     "data": {
      "text/plain": [
       "aisle\n",
       "bread             1.900763\n",
       "ice cream ice     1.882952\n",
       "frozen produce    1.687532\n",
       "crackers          1.579135\n",
       "soft drinks       1.475318\n",
       "dtype: float64"
      ]
     },
     "execution_count": 59,
     "metadata": {},
     "output_type": "execute_result"
    }
   ],
   "source": [
    "c0.sort_values(ascending=False)[10:15]"
   ]
  },
  {
   "cell_type": "code",
   "execution_count": 60,
   "metadata": {
    "_cell_guid": "b27733e1-29c6-4322-bd5d-9f38d6c1969b",
    "_execution_state": "idle",
    "_uuid": "7831588875c25e105f2fe8a6b895b10da753c867"
   },
   "outputs": [
    {
     "data": {
      "text/plain": [
       "aisle\n",
       "water seltzer sparkling water    5.919271\n",
       "refrigerated                     4.697917\n",
       "lunch meat                       4.671875\n",
       "fresh herbs                      4.661458\n",
       "eggs                             4.565104\n",
       "dtype: float64"
      ]
     },
     "execution_count": 60,
     "metadata": {},
     "output_type": "execute_result"
    }
   ],
   "source": [
    "c1.sort_values(ascending=False)[10:15]"
   ]
  },
  {
   "cell_type": "code",
   "execution_count": 61,
   "metadata": {
    "_cell_guid": "a5786b6d-b809-4698-98fd-54ba23501f8e",
    "_execution_state": "idle",
    "_uuid": "55bf5e3e0f30af39708b35f8423ec7ab037751a6"
   },
   "outputs": [
    {
     "data": {
      "text/plain": [
       "aisle\n",
       "milk              13.347826\n",
       "fresh herbs       13.014493\n",
       "frozen produce    12.449275\n",
       "chips pretzels    10.420290\n",
       "eggs               9.927536\n",
       "dtype: float64"
      ]
     },
     "execution_count": 61,
     "metadata": {},
     "output_type": "execute_result"
    }
   ],
   "source": [
    "c2.sort_values(ascending=False)[10:15]"
   ]
  },
  {
   "cell_type": "code",
   "execution_count": 62,
   "metadata": {
    "_cell_guid": "a5448130-e915-4a5a-bf08-209bd8677123",
    "_execution_state": "idle",
    "_uuid": "9fa5ceed1a0889f7a3d977fed66112a0d9aad22d"
   },
   "outputs": [
    {
     "data": {
      "text/plain": [
       "aisle\n",
       "bread             6.829268\n",
       "chips pretzels    6.768293\n",
       "tea               5.841463\n",
       "frozen meals      5.487805\n",
       "cereal            5.390244\n",
       "dtype: float64"
      ]
     },
     "execution_count": 62,
     "metadata": {},
     "output_type": "execute_result"
    }
   ],
   "source": [
    "c3.sort_values(ascending=False)[10:15]"
   ]
  },
  {
   "cell_type": "markdown",
   "metadata": {
    "_uuid": "15afa74491af9bb1ceb6d2fd0d0c39c341c8ec6a"
   },
   "source": [
    "We can see a lot of different and distinct products for each cluster after checking for top 10 to 15 products in each cluster."
   ]
  },
  {
   "cell_type": "code",
   "execution_count": null,
   "metadata": {
    "_uuid": "53f2198e19829c8c50f31fd96340a4d9a515947d"
   },
   "outputs": [],
   "source": []
  }
 ],
 "metadata": {
  "kernelspec": {
   "display_name": "Python 3",
   "language": "python",
   "name": "python3"
  },
  "language_info": {
   "codemirror_mode": {
    "name": "ipython",
    "version": 3
   },
   "file_extension": ".py",
   "mimetype": "text/x-python",
   "name": "python",
   "nbconvert_exporter": "python",
   "pygments_lexer": "ipython3",
   "version": "3.6.9"
  },
  "pycharm": {
   "stem_cell": {
    "cell_type": "raw",
    "metadata": {
     "collapsed": false
    },
    "source": []
   }
  }
 },
 "nbformat": 4,
 "nbformat_minor": 1
}
